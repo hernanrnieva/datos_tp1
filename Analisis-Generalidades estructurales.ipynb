{
 "cells": [
  {
   "cell_type": "code",
   "execution_count": 96,
   "id": "3578ba2d",
   "metadata": {},
   "outputs": [],
   "source": [
    "import pandas as pd\n",
    "import numpy as np\n",
    "import matplotlib.pyplot as plt\n",
    "import seaborn as sns\n",
    "import re\n",
    "\n",
    "from mpl_toolkits.mplot3d import axes3d\n",
    "from matplotlib import style\n",
    "\n",
    "%matplotlib inline"
   ]
  },
  {
   "cell_type": "code",
   "execution_count": 97,
   "id": "5dcbd621",
   "metadata": {},
   "outputs": [
    {
     "data": {
      "text/html": [
       "<div>\n",
       "<style scoped>\n",
       "    .dataframe tbody tr th:only-of-type {\n",
       "        vertical-align: middle;\n",
       "    }\n",
       "\n",
       "    .dataframe tbody tr th {\n",
       "        vertical-align: top;\n",
       "    }\n",
       "\n",
       "    .dataframe thead th {\n",
       "        text-align: right;\n",
       "    }\n",
       "</style>\n",
       "<table border=\"1\" class=\"dataframe\">\n",
       "  <thead>\n",
       "    <tr style=\"text-align: right;\">\n",
       "      <th></th>\n",
       "      <th>Unnamed: 0</th>\n",
       "      <th>building_id</th>\n",
       "      <th>geo_level_1_id</th>\n",
       "      <th>geo_level_2_id</th>\n",
       "      <th>geo_level_3_id</th>\n",
       "      <th>count_floors_pre_eq</th>\n",
       "      <th>age</th>\n",
       "      <th>area_percentage</th>\n",
       "      <th>height_percentage</th>\n",
       "      <th>land_surface_condition</th>\n",
       "      <th>...</th>\n",
       "      <th>has_secondary_use_hotel</th>\n",
       "      <th>has_secondary_use_rental</th>\n",
       "      <th>has_secondary_use_institution</th>\n",
       "      <th>has_secondary_use_school</th>\n",
       "      <th>has_secondary_use_industry</th>\n",
       "      <th>has_secondary_use_health_post</th>\n",
       "      <th>has_secondary_use_gov_office</th>\n",
       "      <th>has_secondary_use_use_police</th>\n",
       "      <th>has_secondary_use_other</th>\n",
       "      <th>damage_grade</th>\n",
       "    </tr>\n",
       "  </thead>\n",
       "  <tbody>\n",
       "    <tr>\n",
       "      <th>0</th>\n",
       "      <td>0</td>\n",
       "      <td>802906</td>\n",
       "      <td>6</td>\n",
       "      <td>487</td>\n",
       "      <td>12198</td>\n",
       "      <td>2</td>\n",
       "      <td>30</td>\n",
       "      <td>6</td>\n",
       "      <td>5</td>\n",
       "      <td>t</td>\n",
       "      <td>...</td>\n",
       "      <td>0</td>\n",
       "      <td>0</td>\n",
       "      <td>0</td>\n",
       "      <td>0</td>\n",
       "      <td>0</td>\n",
       "      <td>0</td>\n",
       "      <td>0</td>\n",
       "      <td>0</td>\n",
       "      <td>0</td>\n",
       "      <td>3</td>\n",
       "    </tr>\n",
       "    <tr>\n",
       "      <th>1</th>\n",
       "      <td>1</td>\n",
       "      <td>28830</td>\n",
       "      <td>8</td>\n",
       "      <td>900</td>\n",
       "      <td>2812</td>\n",
       "      <td>2</td>\n",
       "      <td>10</td>\n",
       "      <td>8</td>\n",
       "      <td>7</td>\n",
       "      <td>o</td>\n",
       "      <td>...</td>\n",
       "      <td>0</td>\n",
       "      <td>0</td>\n",
       "      <td>0</td>\n",
       "      <td>0</td>\n",
       "      <td>0</td>\n",
       "      <td>0</td>\n",
       "      <td>0</td>\n",
       "      <td>0</td>\n",
       "      <td>0</td>\n",
       "      <td>2</td>\n",
       "    </tr>\n",
       "    <tr>\n",
       "      <th>2</th>\n",
       "      <td>2</td>\n",
       "      <td>94947</td>\n",
       "      <td>21</td>\n",
       "      <td>363</td>\n",
       "      <td>8973</td>\n",
       "      <td>2</td>\n",
       "      <td>10</td>\n",
       "      <td>5</td>\n",
       "      <td>5</td>\n",
       "      <td>t</td>\n",
       "      <td>...</td>\n",
       "      <td>0</td>\n",
       "      <td>0</td>\n",
       "      <td>0</td>\n",
       "      <td>0</td>\n",
       "      <td>0</td>\n",
       "      <td>0</td>\n",
       "      <td>0</td>\n",
       "      <td>0</td>\n",
       "      <td>0</td>\n",
       "      <td>3</td>\n",
       "    </tr>\n",
       "    <tr>\n",
       "      <th>3</th>\n",
       "      <td>3</td>\n",
       "      <td>590882</td>\n",
       "      <td>22</td>\n",
       "      <td>418</td>\n",
       "      <td>10694</td>\n",
       "      <td>2</td>\n",
       "      <td>10</td>\n",
       "      <td>6</td>\n",
       "      <td>5</td>\n",
       "      <td>t</td>\n",
       "      <td>...</td>\n",
       "      <td>0</td>\n",
       "      <td>0</td>\n",
       "      <td>0</td>\n",
       "      <td>0</td>\n",
       "      <td>0</td>\n",
       "      <td>0</td>\n",
       "      <td>0</td>\n",
       "      <td>0</td>\n",
       "      <td>0</td>\n",
       "      <td>2</td>\n",
       "    </tr>\n",
       "    <tr>\n",
       "      <th>4</th>\n",
       "      <td>4</td>\n",
       "      <td>201944</td>\n",
       "      <td>11</td>\n",
       "      <td>131</td>\n",
       "      <td>1488</td>\n",
       "      <td>3</td>\n",
       "      <td>30</td>\n",
       "      <td>8</td>\n",
       "      <td>9</td>\n",
       "      <td>t</td>\n",
       "      <td>...</td>\n",
       "      <td>0</td>\n",
       "      <td>0</td>\n",
       "      <td>0</td>\n",
       "      <td>0</td>\n",
       "      <td>0</td>\n",
       "      <td>0</td>\n",
       "      <td>0</td>\n",
       "      <td>0</td>\n",
       "      <td>0</td>\n",
       "      <td>3</td>\n",
       "    </tr>\n",
       "    <tr>\n",
       "      <th>5</th>\n",
       "      <td>5</td>\n",
       "      <td>333020</td>\n",
       "      <td>8</td>\n",
       "      <td>558</td>\n",
       "      <td>6089</td>\n",
       "      <td>2</td>\n",
       "      <td>10</td>\n",
       "      <td>9</td>\n",
       "      <td>5</td>\n",
       "      <td>t</td>\n",
       "      <td>...</td>\n",
       "      <td>0</td>\n",
       "      <td>0</td>\n",
       "      <td>0</td>\n",
       "      <td>0</td>\n",
       "      <td>0</td>\n",
       "      <td>0</td>\n",
       "      <td>0</td>\n",
       "      <td>0</td>\n",
       "      <td>0</td>\n",
       "      <td>2</td>\n",
       "    </tr>\n",
       "    <tr>\n",
       "      <th>6</th>\n",
       "      <td>6</td>\n",
       "      <td>728451</td>\n",
       "      <td>9</td>\n",
       "      <td>475</td>\n",
       "      <td>12066</td>\n",
       "      <td>2</td>\n",
       "      <td>25</td>\n",
       "      <td>3</td>\n",
       "      <td>4</td>\n",
       "      <td>n</td>\n",
       "      <td>...</td>\n",
       "      <td>0</td>\n",
       "      <td>0</td>\n",
       "      <td>0</td>\n",
       "      <td>0</td>\n",
       "      <td>0</td>\n",
       "      <td>0</td>\n",
       "      <td>0</td>\n",
       "      <td>0</td>\n",
       "      <td>0</td>\n",
       "      <td>3</td>\n",
       "    </tr>\n",
       "    <tr>\n",
       "      <th>7</th>\n",
       "      <td>7</td>\n",
       "      <td>475515</td>\n",
       "      <td>20</td>\n",
       "      <td>323</td>\n",
       "      <td>12236</td>\n",
       "      <td>2</td>\n",
       "      <td>0</td>\n",
       "      <td>8</td>\n",
       "      <td>6</td>\n",
       "      <td>t</td>\n",
       "      <td>...</td>\n",
       "      <td>0</td>\n",
       "      <td>0</td>\n",
       "      <td>0</td>\n",
       "      <td>0</td>\n",
       "      <td>0</td>\n",
       "      <td>0</td>\n",
       "      <td>0</td>\n",
       "      <td>0</td>\n",
       "      <td>0</td>\n",
       "      <td>1</td>\n",
       "    </tr>\n",
       "    <tr>\n",
       "      <th>8</th>\n",
       "      <td>8</td>\n",
       "      <td>441126</td>\n",
       "      <td>0</td>\n",
       "      <td>757</td>\n",
       "      <td>7219</td>\n",
       "      <td>2</td>\n",
       "      <td>15</td>\n",
       "      <td>8</td>\n",
       "      <td>6</td>\n",
       "      <td>t</td>\n",
       "      <td>...</td>\n",
       "      <td>0</td>\n",
       "      <td>0</td>\n",
       "      <td>0</td>\n",
       "      <td>0</td>\n",
       "      <td>0</td>\n",
       "      <td>0</td>\n",
       "      <td>0</td>\n",
       "      <td>0</td>\n",
       "      <td>0</td>\n",
       "      <td>2</td>\n",
       "    </tr>\n",
       "    <tr>\n",
       "      <th>9</th>\n",
       "      <td>9</td>\n",
       "      <td>989500</td>\n",
       "      <td>26</td>\n",
       "      <td>886</td>\n",
       "      <td>994</td>\n",
       "      <td>1</td>\n",
       "      <td>0</td>\n",
       "      <td>13</td>\n",
       "      <td>4</td>\n",
       "      <td>t</td>\n",
       "      <td>...</td>\n",
       "      <td>0</td>\n",
       "      <td>0</td>\n",
       "      <td>0</td>\n",
       "      <td>0</td>\n",
       "      <td>0</td>\n",
       "      <td>0</td>\n",
       "      <td>0</td>\n",
       "      <td>0</td>\n",
       "      <td>0</td>\n",
       "      <td>1</td>\n",
       "    </tr>\n",
       "  </tbody>\n",
       "</table>\n",
       "<p>10 rows × 41 columns</p>\n",
       "</div>"
      ],
      "text/plain": [
       "   Unnamed: 0  building_id  geo_level_1_id  geo_level_2_id  geo_level_3_id  \\\n",
       "0           0       802906               6             487           12198   \n",
       "1           1        28830               8             900            2812   \n",
       "2           2        94947              21             363            8973   \n",
       "3           3       590882              22             418           10694   \n",
       "4           4       201944              11             131            1488   \n",
       "5           5       333020               8             558            6089   \n",
       "6           6       728451               9             475           12066   \n",
       "7           7       475515              20             323           12236   \n",
       "8           8       441126               0             757            7219   \n",
       "9           9       989500              26             886             994   \n",
       "\n",
       "   count_floors_pre_eq  age  area_percentage  height_percentage  \\\n",
       "0                    2   30                6                  5   \n",
       "1                    2   10                8                  7   \n",
       "2                    2   10                5                  5   \n",
       "3                    2   10                6                  5   \n",
       "4                    3   30                8                  9   \n",
       "5                    2   10                9                  5   \n",
       "6                    2   25                3                  4   \n",
       "7                    2    0                8                  6   \n",
       "8                    2   15                8                  6   \n",
       "9                    1    0               13                  4   \n",
       "\n",
       "  land_surface_condition  ... has_secondary_use_hotel  \\\n",
       "0                      t  ...                       0   \n",
       "1                      o  ...                       0   \n",
       "2                      t  ...                       0   \n",
       "3                      t  ...                       0   \n",
       "4                      t  ...                       0   \n",
       "5                      t  ...                       0   \n",
       "6                      n  ...                       0   \n",
       "7                      t  ...                       0   \n",
       "8                      t  ...                       0   \n",
       "9                      t  ...                       0   \n",
       "\n",
       "  has_secondary_use_rental has_secondary_use_institution  \\\n",
       "0                        0                             0   \n",
       "1                        0                             0   \n",
       "2                        0                             0   \n",
       "3                        0                             0   \n",
       "4                        0                             0   \n",
       "5                        0                             0   \n",
       "6                        0                             0   \n",
       "7                        0                             0   \n",
       "8                        0                             0   \n",
       "9                        0                             0   \n",
       "\n",
       "  has_secondary_use_school has_secondary_use_industry  \\\n",
       "0                        0                          0   \n",
       "1                        0                          0   \n",
       "2                        0                          0   \n",
       "3                        0                          0   \n",
       "4                        0                          0   \n",
       "5                        0                          0   \n",
       "6                        0                          0   \n",
       "7                        0                          0   \n",
       "8                        0                          0   \n",
       "9                        0                          0   \n",
       "\n",
       "  has_secondary_use_health_post  has_secondary_use_gov_office  \\\n",
       "0                             0                             0   \n",
       "1                             0                             0   \n",
       "2                             0                             0   \n",
       "3                             0                             0   \n",
       "4                             0                             0   \n",
       "5                             0                             0   \n",
       "6                             0                             0   \n",
       "7                             0                             0   \n",
       "8                             0                             0   \n",
       "9                             0                             0   \n",
       "\n",
       "   has_secondary_use_use_police  has_secondary_use_other  damage_grade  \n",
       "0                             0                        0             3  \n",
       "1                             0                        0             2  \n",
       "2                             0                        0             3  \n",
       "3                             0                        0             2  \n",
       "4                             0                        0             3  \n",
       "5                             0                        0             2  \n",
       "6                             0                        0             3  \n",
       "7                             0                        0             1  \n",
       "8                             0                        0             2  \n",
       "9                             0                        0             1  \n",
       "\n",
       "[10 rows x 41 columns]"
      ]
     },
     "execution_count": 97,
     "metadata": {},
     "output_type": "execute_result"
    }
   ],
   "source": [
    "train_values_damage = pd.read_csv('train_values_damage.csv', low_memory=False)\n",
    "train_values_damage.head(10)"
   ]
  },
  {
   "cell_type": "code",
   "execution_count": 98,
   "id": "1af4bc2c",
   "metadata": {},
   "outputs": [],
   "source": [
    "del train_values_damage['Unnamed: 0']"
   ]
  },
  {
   "cell_type": "code",
   "execution_count": 99,
   "id": "ef512af0",
   "metadata": {},
   "outputs": [
    {
     "data": {
      "text/plain": [
       "Index(['building_id', 'geo_level_1_id', 'geo_level_2_id', 'geo_level_3_id',\n",
       "       'count_floors_pre_eq', 'age', 'area_percentage', 'height_percentage',\n",
       "       'land_surface_condition', 'foundation_type', 'roof_type',\n",
       "       'ground_floor_type', 'other_floor_type', 'position',\n",
       "       'plan_configuration', 'has_superstructure_adobe_mud',\n",
       "       'has_superstructure_mud_mortar_stone', 'has_superstructure_stone_flag',\n",
       "       'has_superstructure_cement_mortar_stone',\n",
       "       'has_superstructure_mud_mortar_brick',\n",
       "       'has_superstructure_cement_mortar_brick', 'has_superstructure_timber',\n",
       "       'has_superstructure_bamboo', 'has_superstructure_rc_non_engineered',\n",
       "       'has_superstructure_rc_engineered', 'has_superstructure_other',\n",
       "       'legal_ownership_status', 'count_families', 'has_secondary_use',\n",
       "       'has_secondary_use_agriculture', 'has_secondary_use_hotel',\n",
       "       'has_secondary_use_rental', 'has_secondary_use_institution',\n",
       "       'has_secondary_use_school', 'has_secondary_use_industry',\n",
       "       'has_secondary_use_health_post', 'has_secondary_use_gov_office',\n",
       "       'has_secondary_use_use_police', 'has_secondary_use_other',\n",
       "       'damage_grade'],\n",
       "      dtype='object')"
      ]
     },
     "execution_count": 99,
     "metadata": {},
     "output_type": "execute_result"
    }
   ],
   "source": [
    "train_values_damage.columns"
   ]
  },
  {
   "cell_type": "code",
   "execution_count": 100,
   "id": "7d1d630d",
   "metadata": {},
   "outputs": [
    {
     "data": {
      "text/html": [
       "<div>\n",
       "<style scoped>\n",
       "    .dataframe tbody tr th:only-of-type {\n",
       "        vertical-align: middle;\n",
       "    }\n",
       "\n",
       "    .dataframe tbody tr th {\n",
       "        vertical-align: top;\n",
       "    }\n",
       "\n",
       "    .dataframe thead th {\n",
       "        text-align: right;\n",
       "    }\n",
       "</style>\n",
       "<table border=\"1\" class=\"dataframe\">\n",
       "  <thead>\n",
       "    <tr style=\"text-align: right;\">\n",
       "      <th></th>\n",
       "      <th>building_id</th>\n",
       "      <th>foundation_type</th>\n",
       "      <th>roof_type</th>\n",
       "      <th>ground_floor_type</th>\n",
       "      <th>land_surface_condition</th>\n",
       "      <th>other_floor_type</th>\n",
       "      <th>plan_configuration</th>\n",
       "      <th>damage_grade</th>\n",
       "    </tr>\n",
       "  </thead>\n",
       "  <tbody>\n",
       "    <tr>\n",
       "      <th>0</th>\n",
       "      <td>802906</td>\n",
       "      <td>r</td>\n",
       "      <td>n</td>\n",
       "      <td>f</td>\n",
       "      <td>t</td>\n",
       "      <td>q</td>\n",
       "      <td>d</td>\n",
       "      <td>3</td>\n",
       "    </tr>\n",
       "    <tr>\n",
       "      <th>1</th>\n",
       "      <td>28830</td>\n",
       "      <td>r</td>\n",
       "      <td>n</td>\n",
       "      <td>x</td>\n",
       "      <td>o</td>\n",
       "      <td>q</td>\n",
       "      <td>d</td>\n",
       "      <td>2</td>\n",
       "    </tr>\n",
       "    <tr>\n",
       "      <th>2</th>\n",
       "      <td>94947</td>\n",
       "      <td>r</td>\n",
       "      <td>n</td>\n",
       "      <td>f</td>\n",
       "      <td>t</td>\n",
       "      <td>x</td>\n",
       "      <td>d</td>\n",
       "      <td>3</td>\n",
       "    </tr>\n",
       "    <tr>\n",
       "      <th>3</th>\n",
       "      <td>590882</td>\n",
       "      <td>r</td>\n",
       "      <td>n</td>\n",
       "      <td>f</td>\n",
       "      <td>t</td>\n",
       "      <td>x</td>\n",
       "      <td>d</td>\n",
       "      <td>2</td>\n",
       "    </tr>\n",
       "    <tr>\n",
       "      <th>4</th>\n",
       "      <td>201944</td>\n",
       "      <td>r</td>\n",
       "      <td>n</td>\n",
       "      <td>f</td>\n",
       "      <td>t</td>\n",
       "      <td>x</td>\n",
       "      <td>d</td>\n",
       "      <td>3</td>\n",
       "    </tr>\n",
       "    <tr>\n",
       "      <th>...</th>\n",
       "      <td>...</td>\n",
       "      <td>...</td>\n",
       "      <td>...</td>\n",
       "      <td>...</td>\n",
       "      <td>...</td>\n",
       "      <td>...</td>\n",
       "      <td>...</td>\n",
       "      <td>...</td>\n",
       "    </tr>\n",
       "    <tr>\n",
       "      <th>260596</th>\n",
       "      <td>688636</td>\n",
       "      <td>r</td>\n",
       "      <td>n</td>\n",
       "      <td>f</td>\n",
       "      <td>n</td>\n",
       "      <td>j</td>\n",
       "      <td>q</td>\n",
       "      <td>2</td>\n",
       "    </tr>\n",
       "    <tr>\n",
       "      <th>260597</th>\n",
       "      <td>669485</td>\n",
       "      <td>r</td>\n",
       "      <td>n</td>\n",
       "      <td>f</td>\n",
       "      <td>t</td>\n",
       "      <td>q</td>\n",
       "      <td>d</td>\n",
       "      <td>3</td>\n",
       "    </tr>\n",
       "    <tr>\n",
       "      <th>260598</th>\n",
       "      <td>602512</td>\n",
       "      <td>r</td>\n",
       "      <td>q</td>\n",
       "      <td>f</td>\n",
       "      <td>t</td>\n",
       "      <td>q</td>\n",
       "      <td>d</td>\n",
       "      <td>3</td>\n",
       "    </tr>\n",
       "    <tr>\n",
       "      <th>260599</th>\n",
       "      <td>151409</td>\n",
       "      <td>r</td>\n",
       "      <td>x</td>\n",
       "      <td>v</td>\n",
       "      <td>t</td>\n",
       "      <td>s</td>\n",
       "      <td>d</td>\n",
       "      <td>2</td>\n",
       "    </tr>\n",
       "    <tr>\n",
       "      <th>260600</th>\n",
       "      <td>747594</td>\n",
       "      <td>r</td>\n",
       "      <td>n</td>\n",
       "      <td>f</td>\n",
       "      <td>n</td>\n",
       "      <td>q</td>\n",
       "      <td>d</td>\n",
       "      <td>3</td>\n",
       "    </tr>\n",
       "  </tbody>\n",
       "</table>\n",
       "<p>260601 rows × 8 columns</p>\n",
       "</div>"
      ],
      "text/plain": [
       "        building_id foundation_type roof_type ground_floor_type  \\\n",
       "0            802906               r         n                 f   \n",
       "1             28830               r         n                 x   \n",
       "2             94947               r         n                 f   \n",
       "3            590882               r         n                 f   \n",
       "4            201944               r         n                 f   \n",
       "...             ...             ...       ...               ...   \n",
       "260596       688636               r         n                 f   \n",
       "260597       669485               r         n                 f   \n",
       "260598       602512               r         q                 f   \n",
       "260599       151409               r         x                 v   \n",
       "260600       747594               r         n                 f   \n",
       "\n",
       "       land_surface_condition other_floor_type plan_configuration  \\\n",
       "0                           t                q                  d   \n",
       "1                           o                q                  d   \n",
       "2                           t                x                  d   \n",
       "3                           t                x                  d   \n",
       "4                           t                x                  d   \n",
       "...                       ...              ...                ...   \n",
       "260596                      n                j                  q   \n",
       "260597                      t                q                  d   \n",
       "260598                      t                q                  d   \n",
       "260599                      t                s                  d   \n",
       "260600                      n                q                  d   \n",
       "\n",
       "        damage_grade  \n",
       "0                  3  \n",
       "1                  2  \n",
       "2                  3  \n",
       "3                  2  \n",
       "4                  3  \n",
       "...              ...  \n",
       "260596             2  \n",
       "260597             3  \n",
       "260598             3  \n",
       "260599             2  \n",
       "260600             3  \n",
       "\n",
       "[260601 rows x 8 columns]"
      ]
     },
     "execution_count": 100,
     "metadata": {},
     "output_type": "execute_result"
    }
   ],
   "source": [
    "train_values_structure = train_values_damage[['building_id', 'foundation_type', 'roof_type', 'ground_floor_type', 'land_surface_condition', 'other_floor_type', 'plan_configuration', 'damage_grade']]\n",
    "train_values_structure"
   ]
  },
  {
   "cell_type": "code",
   "execution_count": 101,
   "id": "34be4292",
   "metadata": {},
   "outputs": [
    {
     "data": {
      "text/html": [
       "<div>\n",
       "<style scoped>\n",
       "    .dataframe tbody tr th:only-of-type {\n",
       "        vertical-align: middle;\n",
       "    }\n",
       "\n",
       "    .dataframe tbody tr th {\n",
       "        vertical-align: top;\n",
       "    }\n",
       "\n",
       "    .dataframe thead th {\n",
       "        text-align: right;\n",
       "    }\n",
       "</style>\n",
       "<table border=\"1\" class=\"dataframe\">\n",
       "  <thead>\n",
       "    <tr style=\"text-align: right;\">\n",
       "      <th></th>\n",
       "      <th>id_edificio</th>\n",
       "      <th>tipo_base</th>\n",
       "      <th>tipo_techo</th>\n",
       "      <th>tipo_planta_baja</th>\n",
       "      <th>condicion_suelo</th>\n",
       "      <th>tipo_otros_pisos</th>\n",
       "      <th>plan_configuracion</th>\n",
       "      <th>nivel_danio</th>\n",
       "    </tr>\n",
       "  </thead>\n",
       "  <tbody>\n",
       "    <tr>\n",
       "      <th>0</th>\n",
       "      <td>802906</td>\n",
       "      <td>r</td>\n",
       "      <td>n</td>\n",
       "      <td>f</td>\n",
       "      <td>t</td>\n",
       "      <td>q</td>\n",
       "      <td>d</td>\n",
       "      <td>3</td>\n",
       "    </tr>\n",
       "    <tr>\n",
       "      <th>1</th>\n",
       "      <td>28830</td>\n",
       "      <td>r</td>\n",
       "      <td>n</td>\n",
       "      <td>x</td>\n",
       "      <td>o</td>\n",
       "      <td>q</td>\n",
       "      <td>d</td>\n",
       "      <td>2</td>\n",
       "    </tr>\n",
       "    <tr>\n",
       "      <th>2</th>\n",
       "      <td>94947</td>\n",
       "      <td>r</td>\n",
       "      <td>n</td>\n",
       "      <td>f</td>\n",
       "      <td>t</td>\n",
       "      <td>x</td>\n",
       "      <td>d</td>\n",
       "      <td>3</td>\n",
       "    </tr>\n",
       "    <tr>\n",
       "      <th>3</th>\n",
       "      <td>590882</td>\n",
       "      <td>r</td>\n",
       "      <td>n</td>\n",
       "      <td>f</td>\n",
       "      <td>t</td>\n",
       "      <td>x</td>\n",
       "      <td>d</td>\n",
       "      <td>2</td>\n",
       "    </tr>\n",
       "    <tr>\n",
       "      <th>4</th>\n",
       "      <td>201944</td>\n",
       "      <td>r</td>\n",
       "      <td>n</td>\n",
       "      <td>f</td>\n",
       "      <td>t</td>\n",
       "      <td>x</td>\n",
       "      <td>d</td>\n",
       "      <td>3</td>\n",
       "    </tr>\n",
       "    <tr>\n",
       "      <th>...</th>\n",
       "      <td>...</td>\n",
       "      <td>...</td>\n",
       "      <td>...</td>\n",
       "      <td>...</td>\n",
       "      <td>...</td>\n",
       "      <td>...</td>\n",
       "      <td>...</td>\n",
       "      <td>...</td>\n",
       "    </tr>\n",
       "    <tr>\n",
       "      <th>260596</th>\n",
       "      <td>688636</td>\n",
       "      <td>r</td>\n",
       "      <td>n</td>\n",
       "      <td>f</td>\n",
       "      <td>n</td>\n",
       "      <td>j</td>\n",
       "      <td>q</td>\n",
       "      <td>2</td>\n",
       "    </tr>\n",
       "    <tr>\n",
       "      <th>260597</th>\n",
       "      <td>669485</td>\n",
       "      <td>r</td>\n",
       "      <td>n</td>\n",
       "      <td>f</td>\n",
       "      <td>t</td>\n",
       "      <td>q</td>\n",
       "      <td>d</td>\n",
       "      <td>3</td>\n",
       "    </tr>\n",
       "    <tr>\n",
       "      <th>260598</th>\n",
       "      <td>602512</td>\n",
       "      <td>r</td>\n",
       "      <td>q</td>\n",
       "      <td>f</td>\n",
       "      <td>t</td>\n",
       "      <td>q</td>\n",
       "      <td>d</td>\n",
       "      <td>3</td>\n",
       "    </tr>\n",
       "    <tr>\n",
       "      <th>260599</th>\n",
       "      <td>151409</td>\n",
       "      <td>r</td>\n",
       "      <td>x</td>\n",
       "      <td>v</td>\n",
       "      <td>t</td>\n",
       "      <td>s</td>\n",
       "      <td>d</td>\n",
       "      <td>2</td>\n",
       "    </tr>\n",
       "    <tr>\n",
       "      <th>260600</th>\n",
       "      <td>747594</td>\n",
       "      <td>r</td>\n",
       "      <td>n</td>\n",
       "      <td>f</td>\n",
       "      <td>n</td>\n",
       "      <td>q</td>\n",
       "      <td>d</td>\n",
       "      <td>3</td>\n",
       "    </tr>\n",
       "  </tbody>\n",
       "</table>\n",
       "<p>260601 rows × 8 columns</p>\n",
       "</div>"
      ],
      "text/plain": [
       "        id_edificio tipo_base tipo_techo tipo_planta_baja condicion_suelo  \\\n",
       "0            802906         r          n                f               t   \n",
       "1             28830         r          n                x               o   \n",
       "2             94947         r          n                f               t   \n",
       "3            590882         r          n                f               t   \n",
       "4            201944         r          n                f               t   \n",
       "...             ...       ...        ...              ...             ...   \n",
       "260596       688636         r          n                f               n   \n",
       "260597       669485         r          n                f               t   \n",
       "260598       602512         r          q                f               t   \n",
       "260599       151409         r          x                v               t   \n",
       "260600       747594         r          n                f               n   \n",
       "\n",
       "       tipo_otros_pisos plan_configuracion  nivel_danio  \n",
       "0                     q                  d            3  \n",
       "1                     q                  d            2  \n",
       "2                     x                  d            3  \n",
       "3                     x                  d            2  \n",
       "4                     x                  d            3  \n",
       "...                 ...                ...          ...  \n",
       "260596                j                  q            2  \n",
       "260597                q                  d            3  \n",
       "260598                q                  d            3  \n",
       "260599                s                  d            2  \n",
       "260600                q                  d            3  \n",
       "\n",
       "[260601 rows x 8 columns]"
      ]
     },
     "execution_count": 101,
     "metadata": {},
     "output_type": "execute_result"
    }
   ],
   "source": [
    "estructura = train_values_structure.rename(columns={'building_id':'id_edificio', \\\n",
    "                                                   'foundation_type':'tipo_base', \\\n",
    "                                                   'roof_type':'tipo_techo', \\\n",
    "                                                   'ground_floor_type':'tipo_planta_baja', \\\n",
    "                                                   'land_surface_condition':'condicion_suelo', \\\n",
    "                                                   'other_floor_type':'tipo_otros_pisos', \\\n",
    "                                                   'plan_configuration':'plan_configuracion', \\\n",
    "                                                   'damage_grade':'nivel_danio'})\n",
    "estructura"
   ]
  },
  {
   "cell_type": "code",
   "execution_count": 102,
   "id": "ebb1528d",
   "metadata": {},
   "outputs": [
    {
     "data": {
      "text/plain": [
       "id_edificio              int64\n",
       "tipo_base             category\n",
       "tipo_techo            category\n",
       "tipo_planta_baja      category\n",
       "condicion_suelo       category\n",
       "tipo_otros_pisos      category\n",
       "plan_configuracion    category\n",
       "nivel_danio              int64\n",
       "dtype: object"
      ]
     },
     "execution_count": 102,
     "metadata": {},
     "output_type": "execute_result"
    }
   ],
   "source": [
    "estructura['tipo_base'] = estructura['tipo_base'].astype('category')\n",
    "estructura['tipo_techo'] = estructura['tipo_techo'].astype('category')\n",
    "estructura['tipo_planta_baja'] = estructura['tipo_planta_baja'].astype('category')\n",
    "estructura['condicion_suelo'] = estructura['condicion_suelo'].astype('category')\n",
    "estructura['tipo_otros_pisos'] = estructura['tipo_otros_pisos'].astype('category')\n",
    "estructura['plan_configuracion'] = estructura['plan_configuracion'].astype('category')\n",
    "estructura.dtypes"
   ]
  },
  {
   "cell_type": "markdown",
   "id": "ac1c502b",
   "metadata": {},
   "source": [
    "# Análisis de cantidad de edificios y daño recibido en cada categoría"
   ]
  },
  {
   "cell_type": "markdown",
   "id": "69e44f7b",
   "metadata": {},
   "source": [
    "### Tipo de base"
   ]
  },
  {
   "cell_type": "code",
   "execution_count": 103,
   "id": "d76b1db3",
   "metadata": {},
   "outputs": [
    {
     "data": {
      "text/html": [
       "<div>\n",
       "<style scoped>\n",
       "    .dataframe tbody tr th:only-of-type {\n",
       "        vertical-align: middle;\n",
       "    }\n",
       "\n",
       "    .dataframe tbody tr th {\n",
       "        vertical-align: top;\n",
       "    }\n",
       "\n",
       "    .dataframe thead th {\n",
       "        text-align: right;\n",
       "    }\n",
       "</style>\n",
       "<table border=\"1\" class=\"dataframe\">\n",
       "  <thead>\n",
       "    <tr style=\"text-align: right;\">\n",
       "      <th></th>\n",
       "      <th>tipo_base</th>\n",
       "      <th>nivel_danio</th>\n",
       "      <th>cantidad_edificios</th>\n",
       "    </tr>\n",
       "  </thead>\n",
       "  <tbody>\n",
       "    <tr>\n",
       "      <th>0</th>\n",
       "      <td>h</td>\n",
       "      <td>2.105663</td>\n",
       "      <td>1448</td>\n",
       "    </tr>\n",
       "    <tr>\n",
       "      <th>1</th>\n",
       "      <td>i</td>\n",
       "      <td>1.453351</td>\n",
       "      <td>10579</td>\n",
       "    </tr>\n",
       "    <tr>\n",
       "      <th>2</th>\n",
       "      <td>r</td>\n",
       "      <td>2.329573</td>\n",
       "      <td>219196</td>\n",
       "    </tr>\n",
       "    <tr>\n",
       "      <th>3</th>\n",
       "      <td>u</td>\n",
       "      <td>1.883661</td>\n",
       "      <td>14260</td>\n",
       "    </tr>\n",
       "    <tr>\n",
       "      <th>4</th>\n",
       "      <td>w</td>\n",
       "      <td>1.810954</td>\n",
       "      <td>15118</td>\n",
       "    </tr>\n",
       "  </tbody>\n",
       "</table>\n",
       "</div>"
      ],
      "text/plain": [
       "  tipo_base  nivel_danio  cantidad_edificios\n",
       "0         h     2.105663                1448\n",
       "1         i     1.453351               10579\n",
       "2         r     2.329573              219196\n",
       "3         u     1.883661               14260\n",
       "4         w     1.810954               15118"
      ]
     },
     "execution_count": 103,
     "metadata": {},
     "output_type": "execute_result"
    }
   ],
   "source": [
    "tipo_base = estructura[['id_edificio', 'tipo_base', 'nivel_danio']].\\\n",
    "            groupby('tipo_base').agg({'nivel_danio':'mean', 'id_edificio':'count'})\n",
    "tipo_base = tipo_base.reset_index()\n",
    "tipo_base = tipo_base.rename(columns={'id_edificio':'cantidad_edificios'})\n",
    "tipo_base"
   ]
  },
  {
   "cell_type": "code",
   "execution_count": 104,
   "id": "15017ee7",
   "metadata": {},
   "outputs": [
    {
     "data": {
      "text/plain": [
       "Text(0, 0.5, 'Tipo de base')"
      ]
     },
     "execution_count": 104,
     "metadata": {},
     "output_type": "execute_result"
    },
    {
     "data": {
      "image/png": "[encoded data removed]",
      "text/plain": [
       "<Figure size 432x288 with 1 Axes>"
      ]
     },
     "metadata": {},
     "output_type": "display_data"
    }
   ],
   "source": [
    "sns.set_theme(style=\"whitegrid\")\n",
    "g = sns.barplot(x=tipo_base['nivel_danio'], y=tipo_base['tipo_base'], data=tipo_base,\\\n",
    "                orient=\"h\")\n",
    "g.set_title('Distribución de daño por diferentes tipos de bases')\n",
    "g.set_xlabel('Daño promedio causado')\n",
    "g.set_ylabel('Tipo de base')"
   ]
  },
  {
   "cell_type": "code",
   "execution_count": 105,
   "id": "545d3eb9",
   "metadata": {},
   "outputs": [
    {
     "data": {
      "text/plain": [
       "Text(0, 0.5, 'Tipo de base')"
      ]
     },
     "execution_count": 105,
     "metadata": {},
     "output_type": "execute_result"
    },
    {
     "data": {
      "image/png": "[encoded data removed]",
      "text/plain": [
       "<Figure size 432x288 with 1 Axes>"
      ]
     },
     "metadata": {},
     "output_type": "display_data"
    }
   ],
   "source": [
    "g = sns.barplot(x=tipo_base['cantidad_edificios'], y=tipo_base['tipo_base'], data=tipo_base,\\\n",
    "                orient=\"h\")\n",
    "g.set_title('Distribución de tipos de bases por edificios')\n",
    "g.set_xlabel('Daño promedio causado')\n",
    "g.set_ylabel('Tipo de base')"
   ]
  },
  {
   "cell_type": "markdown",
   "id": "0595373b",
   "metadata": {},
   "source": [
    "### Tipo de techo"
   ]
  },
  {
   "cell_type": "code",
   "execution_count": 106,
   "id": "2a10900e",
   "metadata": {},
   "outputs": [
    {
     "data": {
      "text/html": [
       "<div>\n",
       "<style scoped>\n",
       "    .dataframe tbody tr th:only-of-type {\n",
       "        vertical-align: middle;\n",
       "    }\n",
       "\n",
       "    .dataframe tbody tr th {\n",
       "        vertical-align: top;\n",
       "    }\n",
       "\n",
       "    .dataframe thead th {\n",
       "        text-align: right;\n",
       "    }\n",
       "</style>\n",
       "<table border=\"1\" class=\"dataframe\">\n",
       "  <thead>\n",
       "    <tr style=\"text-align: right;\">\n",
       "      <th></th>\n",
       "      <th>tipo_techo</th>\n",
       "      <th>nivel_danio</th>\n",
       "      <th>cantidad_edificios</th>\n",
       "    </tr>\n",
       "  </thead>\n",
       "  <tbody>\n",
       "    <tr>\n",
       "      <th>0</th>\n",
       "      <td>n</td>\n",
       "      <td>2.269637</td>\n",
       "      <td>182842</td>\n",
       "    </tr>\n",
       "    <tr>\n",
       "      <th>1</th>\n",
       "      <td>q</td>\n",
       "      <td>2.320173</td>\n",
       "      <td>61576</td>\n",
       "    </tr>\n",
       "    <tr>\n",
       "      <th>2</th>\n",
       "      <td>x</td>\n",
       "      <td>1.572267</td>\n",
       "      <td>16183</td>\n",
       "    </tr>\n",
       "  </tbody>\n",
       "</table>\n",
       "</div>"
      ],
      "text/plain": [
       "  tipo_techo  nivel_danio  cantidad_edificios\n",
       "0          n     2.269637              182842\n",
       "1          q     2.320173               61576\n",
       "2          x     1.572267               16183"
      ]
     },
     "execution_count": 106,
     "metadata": {},
     "output_type": "execute_result"
    }
   ],
   "source": [
    "tipo_techo = estructura[['id_edificio', 'tipo_techo', 'nivel_danio']].\\\n",
    "            groupby('tipo_techo').agg({'nivel_danio':'mean', 'id_edificio':'count'})\n",
    "tipo_techo = tipo_techo.reset_index()\n",
    "tipo_techo = tipo_techo.rename(columns={'id_edificio':'cantidad_edificios'})\n",
    "tipo_techo"
   ]
  },
  {
   "cell_type": "code",
   "execution_count": 107,
   "id": "a83ad3c2",
   "metadata": {},
   "outputs": [
    {
     "data": {
      "text/plain": [
       "Text(0, 0.5, 'Tipo de techo')"
      ]
     },
     "execution_count": 107,
     "metadata": {},
     "output_type": "execute_result"
    },
    {
     "data": {
      "image/png": "[encoded data removed]",
      "text/plain": [
       "<Figure size 432x288 with 1 Axes>"
      ]
     },
     "metadata": {},
     "output_type": "display_data"
    }
   ],
   "source": [
    "sns.set_theme(style=\"whitegrid\")\n",
    "g = sns.barplot(x=tipo_techo['nivel_danio'], y=tipo_techo['tipo_techo'], data=tipo_techo,\\\n",
    "                orient=\"h\")\n",
    "g.set_title('Distribución de daño por diferentes tipos de techos')\n",
    "g.set_xlabel('Daño promedio causado')\n",
    "g.set_ylabel('Tipo de techo')"
   ]
  },
  {
   "cell_type": "code",
   "execution_count": 108,
   "id": "ccc97b89",
   "metadata": {},
   "outputs": [
    {
     "data": {
      "text/plain": [
       "Text(0, 0.5, 'Tipo de techo')"
      ]
     },
     "execution_count": 108,
     "metadata": {},
     "output_type": "execute_result"
    },
    {
     "data": {
      "image/png": "[encoded data removed]",
      "text/plain": [
       "<Figure size 432x288 with 1 Axes>"
      ]
     },
     "metadata": {},
     "output_type": "display_data"
    }
   ],
   "source": [
    "g = sns.barplot(x=tipo_techo['cantidad_edificios'], y=tipo_techo['tipo_techo'], data=tipo_techo,\\\n",
    "                orient=\"h\")\n",
    "g.set_title('Distribución de tipos de techos por edificios')\n",
    "g.set_xlabel('Daño promedio causado')\n",
    "g.set_ylabel('Tipo de techo')"
   ]
  },
  {
   "cell_type": "markdown",
   "id": "c7525650",
   "metadata": {},
   "source": [
    "### Tipo de planta baja"
   ]
  },
  {
   "cell_type": "code",
   "execution_count": 109,
   "id": "29eff301",
   "metadata": {},
   "outputs": [
    {
     "data": {
      "text/html": [
       "<div>\n",
       "<style scoped>\n",
       "    .dataframe tbody tr th:only-of-type {\n",
       "        vertical-align: middle;\n",
       "    }\n",
       "\n",
       "    .dataframe tbody tr th {\n",
       "        vertical-align: top;\n",
       "    }\n",
       "\n",
       "    .dataframe thead th {\n",
       "        text-align: right;\n",
       "    }\n",
       "</style>\n",
       "<table border=\"1\" class=\"dataframe\">\n",
       "  <thead>\n",
       "    <tr style=\"text-align: right;\">\n",
       "      <th></th>\n",
       "      <th>tipo_planta_baja</th>\n",
       "      <th>nivel_danio</th>\n",
       "      <th>cantidad_edificios</th>\n",
       "    </tr>\n",
       "  </thead>\n",
       "  <tbody>\n",
       "    <tr>\n",
       "      <th>0</th>\n",
       "      <td>f</td>\n",
       "      <td>2.309104</td>\n",
       "      <td>209619</td>\n",
       "    </tr>\n",
       "    <tr>\n",
       "      <th>1</th>\n",
       "      <td>m</td>\n",
       "      <td>1.970472</td>\n",
       "      <td>508</td>\n",
       "    </tr>\n",
       "    <tr>\n",
       "      <th>2</th>\n",
       "      <td>v</td>\n",
       "      <td>1.634205</td>\n",
       "      <td>24593</td>\n",
       "    </tr>\n",
       "    <tr>\n",
       "      <th>3</th>\n",
       "      <td>x</td>\n",
       "      <td>2.250714</td>\n",
       "      <td>24877</td>\n",
       "    </tr>\n",
       "    <tr>\n",
       "      <th>4</th>\n",
       "      <td>z</td>\n",
       "      <td>2.073705</td>\n",
       "      <td>1004</td>\n",
       "    </tr>\n",
       "  </tbody>\n",
       "</table>\n",
       "</div>"
      ],
      "text/plain": [
       "  tipo_planta_baja  nivel_danio  cantidad_edificios\n",
       "0                f     2.309104              209619\n",
       "1                m     1.970472                 508\n",
       "2                v     1.634205               24593\n",
       "3                x     2.250714               24877\n",
       "4                z     2.073705                1004"
      ]
     },
     "execution_count": 109,
     "metadata": {},
     "output_type": "execute_result"
    }
   ],
   "source": [
    "tipo_pb = estructura[['id_edificio', 'tipo_planta_baja', 'nivel_danio']].\\\n",
    "            groupby('tipo_planta_baja').agg({'nivel_danio':'mean', 'id_edificio':'count'})\n",
    "tipo_pb = tipo_pb.reset_index()\n",
    "tipo_pb = tipo_pb.rename(columns={'id_edificio':'cantidad_edificios'})\n",
    "tipo_pb"
   ]
  },
  {
   "cell_type": "code",
   "execution_count": 110,
   "id": "4da7e04d",
   "metadata": {},
   "outputs": [
    {
     "data": {
      "text/plain": [
       "Text(0, 0.5, 'Tipo de planta baja')"
      ]
     },
     "execution_count": 110,
     "metadata": {},
     "output_type": "execute_result"
    },
    {
     "data": {
      "image/png": "[encoded data removed]",
      "text/plain": [
       "<Figure size 432x288 with 1 Axes>"
      ]
     },
     "metadata": {},
     "output_type": "display_data"
    }
   ],
   "source": [
    "sns.set_theme(style=\"whitegrid\")\n",
    "g = sns.barplot(x=tipo_pb['nivel_danio'], y=tipo_pb['tipo_planta_baja'], data=tipo_pb,\\\n",
    "                orient=\"h\")\n",
    "g.set_title('Distribución de daño por diferentes tipos de planta baja')\n",
    "g.set_xlabel('Daño promedio causado')\n",
    "g.set_ylabel('Tipo de planta baja')"
   ]
  },
  {
   "cell_type": "code",
   "execution_count": 111,
   "id": "22d49b91",
   "metadata": {},
   "outputs": [
    {
     "data": {
      "text/plain": [
       "Text(0, 0.5, 'Tipo de planta baja')"
      ]
     },
     "execution_count": 111,
     "metadata": {},
     "output_type": "execute_result"
    },
    {
     "data": {
      "image/png": "[encoded data removed]",
      "text/plain": [
       "<Figure size 432x288 with 1 Axes>"
      ]
     },
     "metadata": {},
     "output_type": "display_data"
    }
   ],
   "source": [
    "g = sns.barplot(x=tipo_pb['cantidad_edificios'], y=tipo_pb['tipo_planta_baja'], data=tipo_pb,\\\n",
    "                orient=\"h\")\n",
    "g.set_title('Distribución de tipos de planta baja por edificios')\n",
    "g.set_xlabel('Daño promedio causado')\n",
    "g.set_ylabel('Tipo de planta baja')"
   ]
  },
  {
   "cell_type": "markdown",
   "id": "51daa9f7",
   "metadata": {},
   "source": [
    "### Condicion de suelo"
   ]
  },
  {
   "cell_type": "code",
   "execution_count": 112,
   "id": "58f17ac0",
   "metadata": {},
   "outputs": [
    {
     "data": {
      "text/html": [
       "<div>\n",
       "<style scoped>\n",
       "    .dataframe tbody tr th:only-of-type {\n",
       "        vertical-align: middle;\n",
       "    }\n",
       "\n",
       "    .dataframe tbody tr th {\n",
       "        vertical-align: top;\n",
       "    }\n",
       "\n",
       "    .dataframe thead th {\n",
       "        text-align: right;\n",
       "    }\n",
       "</style>\n",
       "<table border=\"1\" class=\"dataframe\">\n",
       "  <thead>\n",
       "    <tr style=\"text-align: right;\">\n",
       "      <th></th>\n",
       "      <th>condicion_suelo</th>\n",
       "      <th>nivel_danio</th>\n",
       "      <th>cantidad_edificios</th>\n",
       "    </tr>\n",
       "  </thead>\n",
       "  <tbody>\n",
       "    <tr>\n",
       "      <th>0</th>\n",
       "      <td>n</td>\n",
       "      <td>2.251407</td>\n",
       "      <td>35528</td>\n",
       "    </tr>\n",
       "    <tr>\n",
       "      <th>1</th>\n",
       "      <td>o</td>\n",
       "      <td>2.289081</td>\n",
       "      <td>8316</td>\n",
       "    </tr>\n",
       "    <tr>\n",
       "      <th>2</th>\n",
       "      <td>t</td>\n",
       "      <td>2.234170</td>\n",
       "      <td>216757</td>\n",
       "    </tr>\n",
       "  </tbody>\n",
       "</table>\n",
       "</div>"
      ],
      "text/plain": [
       "  condicion_suelo  nivel_danio  cantidad_edificios\n",
       "0               n     2.251407               35528\n",
       "1               o     2.289081                8316\n",
       "2               t     2.234170              216757"
      ]
     },
     "execution_count": 112,
     "metadata": {},
     "output_type": "execute_result"
    }
   ],
   "source": [
    "cond_suelo = estructura[['id_edificio', 'condicion_suelo', 'nivel_danio']].\\\n",
    "            groupby('condicion_suelo').agg({'nivel_danio':'mean', 'id_edificio':'count'})\n",
    "cond_suelo = cond_suelo.reset_index()\n",
    "cond_suelo = cond_suelo.rename(columns={'id_edificio':'cantidad_edificios'})\n",
    "cond_suelo"
   ]
  },
  {
   "cell_type": "code",
   "execution_count": 113,
   "id": "89f3c137",
   "metadata": {},
   "outputs": [
    {
     "data": {
      "text/plain": [
       "Text(0, 0.5, 'Condicion de suelo')"
      ]
     },
     "execution_count": 113,
     "metadata": {},
     "output_type": "execute_result"
    },
    {
     "data": {
      "image/png": "[encoded data removed]",
      "text/plain": [
       "<Figure size 432x288 with 1 Axes>"
      ]
     },
     "metadata": {},
     "output_type": "display_data"
    }
   ],
   "source": [
    "sns.set_theme(style=\"whitegrid\")\n",
    "g = sns.barplot(x=cond_suelo['nivel_danio'], y=cond_suelo['condicion_suelo'], data=cond_suelo,\\\n",
    "                orient=\"h\")\n",
    "g.set_title('Distribución de daño por diferentes condiciones de suelo')\n",
    "g.set_xlabel('Daño promedio causado')\n",
    "g.set_ylabel('Condicion de suelo')"
   ]
  },
  {
   "cell_type": "code",
   "execution_count": 114,
   "id": "1cb3f11d",
   "metadata": {},
   "outputs": [
    {
     "data": {
      "text/plain": [
       "Text(0, 0.5, 'Condicion de suelo')"
      ]
     },
     "execution_count": 114,
     "metadata": {},
     "output_type": "execute_result"
    },
    {
     "data": {
      "image/png": "[encoded data removed]",
      "text/plain": [
       "<Figure size 432x288 with 1 Axes>"
      ]
     },
     "metadata": {},
     "output_type": "display_data"
    }
   ],
   "source": [
    "g = sns.barplot(x=cond_suelo['cantidad_edificios'], y=cond_suelo['condicion_suelo'], data=cond_suelo,\\\n",
    "                orient=\"h\")\n",
    "g.set_title('Distribución de condiciones de suelo por edificios')\n",
    "g.set_xlabel('Daño promedio causado')\n",
    "g.set_ylabel('Condicion de suelo')"
   ]
  },
  {
   "cell_type": "markdown",
   "id": "4261d81d",
   "metadata": {},
   "source": [
    "### Tipo de piso en otras plantas"
   ]
  },
  {
   "cell_type": "code",
   "execution_count": 115,
   "id": "ec67910c",
   "metadata": {},
   "outputs": [
    {
     "data": {
      "text/html": [
       "<div>\n",
       "<style scoped>\n",
       "    .dataframe tbody tr th:only-of-type {\n",
       "        vertical-align: middle;\n",
       "    }\n",
       "\n",
       "    .dataframe tbody tr th {\n",
       "        vertical-align: top;\n",
       "    }\n",
       "\n",
       "    .dataframe thead th {\n",
       "        text-align: right;\n",
       "    }\n",
       "</style>\n",
       "<table border=\"1\" class=\"dataframe\">\n",
       "  <thead>\n",
       "    <tr style=\"text-align: right;\">\n",
       "      <th></th>\n",
       "      <th>tipo_otros_pisos</th>\n",
       "      <th>nivel_danio</th>\n",
       "      <th>cantidad_edificios</th>\n",
       "    </tr>\n",
       "  </thead>\n",
       "  <tbody>\n",
       "    <tr>\n",
       "      <th>0</th>\n",
       "      <td>j</td>\n",
       "      <td>2.042893</td>\n",
       "      <td>39843</td>\n",
       "    </tr>\n",
       "    <tr>\n",
       "      <th>1</th>\n",
       "      <td>q</td>\n",
       "      <td>2.315751</td>\n",
       "      <td>165282</td>\n",
       "    </tr>\n",
       "    <tr>\n",
       "      <th>2</th>\n",
       "      <td>s</td>\n",
       "      <td>1.607416</td>\n",
       "      <td>12028</td>\n",
       "    </tr>\n",
       "    <tr>\n",
       "      <th>3</th>\n",
       "      <td>x</td>\n",
       "      <td>2.297344</td>\n",
       "      <td>43448</td>\n",
       "    </tr>\n",
       "  </tbody>\n",
       "</table>\n",
       "</div>"
      ],
      "text/plain": [
       "  tipo_otros_pisos  nivel_danio  cantidad_edificios\n",
       "0                j     2.042893               39843\n",
       "1                q     2.315751              165282\n",
       "2                s     1.607416               12028\n",
       "3                x     2.297344               43448"
      ]
     },
     "execution_count": 115,
     "metadata": {},
     "output_type": "execute_result"
    }
   ],
   "source": [
    "tipo_otras_plantas = estructura[['id_edificio', 'tipo_otros_pisos', 'nivel_danio']].\\\n",
    "            groupby('tipo_otros_pisos').agg({'nivel_danio':'mean', 'id_edificio':'count'})\n",
    "tipo_otras_plantas = tipo_otras_plantas.reset_index()\n",
    "tipo_otras_plantas = tipo_otras_plantas.rename(columns={'id_edificio':'cantidad_edificios'})\n",
    "tipo_otras_plantas"
   ]
  },
  {
   "cell_type": "code",
   "execution_count": 116,
   "id": "c880d825",
   "metadata": {},
   "outputs": [
    {
     "data": {
      "text/plain": [
       "Text(0, 0.5, 'Tipo de piso en otras plantas')"
      ]
     },
     "execution_count": 116,
     "metadata": {},
     "output_type": "execute_result"
    },
    {
     "data": {
      "image/png": "[encoded data removed]",
      "text/plain": [
       "<Figure size 432x288 with 1 Axes>"
      ]
     },
     "metadata": {},
     "output_type": "display_data"
    }
   ],
   "source": [
    "sns.set_theme(style=\"whitegrid\")\n",
    "g = sns.barplot(x=tipo_otras_plantas['nivel_danio'], y=tipo_otras_plantas['tipo_otros_pisos'], data=tipo_otras_plantas,\\\n",
    "                orient=\"h\")\n",
    "g.set_title('Distribución de daño por tipos de piso en otras plantas')\n",
    "g.set_xlabel('Daño promedio causado')\n",
    "g.set_ylabel('Tipo de piso en otras plantas')"
   ]
  },
  {
   "cell_type": "code",
   "execution_count": 117,
   "id": "c490b70d",
   "metadata": {},
   "outputs": [
    {
     "data": {
      "text/plain": [
       "Text(0, 0.5, 'Tipo de piso en otras plantas')"
      ]
     },
     "execution_count": 117,
     "metadata": {},
     "output_type": "execute_result"
    },
    {
     "data": {
      "image/png": "[encoded data removed]",
      "text/plain": [
       "<Figure size 432x288 with 1 Axes>"
      ]
     },
     "metadata": {},
     "output_type": "display_data"
    }
   ],
   "source": [
    "g = sns.barplot(x=tipo_otras_plantas['cantidad_edificios'], y=tipo_otras_plantas['tipo_otros_pisos'], data=tipo_otras_plantas,\\\n",
    "                orient=\"h\")\n",
    "g.set_title('Distribución de tipos de piso en otras plantas por edificios')\n",
    "g.set_xlabel('Daño promedio causado')\n",
    "g.set_ylabel('Tipo de piso en otras plantas')"
   ]
  },
  {
   "cell_type": "markdown",
   "id": "1032a037",
   "metadata": {},
   "source": [
    "### Plan de configuracion"
   ]
  },
  {
   "cell_type": "code",
   "execution_count": 118,
   "id": "90aa4a68",
   "metadata": {},
   "outputs": [
    {
     "data": {
      "text/html": [
       "<div>\n",
       "<style scoped>\n",
       "    .dataframe tbody tr th:only-of-type {\n",
       "        vertical-align: middle;\n",
       "    }\n",
       "\n",
       "    .dataframe tbody tr th {\n",
       "        vertical-align: top;\n",
       "    }\n",
       "\n",
       "    .dataframe thead th {\n",
       "        text-align: right;\n",
       "    }\n",
       "</style>\n",
       "<table border=\"1\" class=\"dataframe\">\n",
       "  <thead>\n",
       "    <tr style=\"text-align: right;\">\n",
       "      <th></th>\n",
       "      <th>plan_configuracion</th>\n",
       "      <th>nivel_danio</th>\n",
       "      <th>cantidad_edificios</th>\n",
       "    </tr>\n",
       "  </thead>\n",
       "  <tbody>\n",
       "    <tr>\n",
       "      <th>0</th>\n",
       "      <td>a</td>\n",
       "      <td>1.853175</td>\n",
       "      <td>252</td>\n",
       "    </tr>\n",
       "    <tr>\n",
       "      <th>1</th>\n",
       "      <td>c</td>\n",
       "      <td>1.836923</td>\n",
       "      <td>325</td>\n",
       "    </tr>\n",
       "    <tr>\n",
       "      <th>2</th>\n",
       "      <td>d</td>\n",
       "      <td>2.243646</td>\n",
       "      <td>250072</td>\n",
       "    </tr>\n",
       "    <tr>\n",
       "      <th>3</th>\n",
       "      <td>f</td>\n",
       "      <td>2.272727</td>\n",
       "      <td>22</td>\n",
       "    </tr>\n",
       "    <tr>\n",
       "      <th>4</th>\n",
       "      <td>m</td>\n",
       "      <td>1.913043</td>\n",
       "      <td>46</td>\n",
       "    </tr>\n",
       "    <tr>\n",
       "      <th>5</th>\n",
       "      <td>n</td>\n",
       "      <td>2.157895</td>\n",
       "      <td>38</td>\n",
       "    </tr>\n",
       "    <tr>\n",
       "      <th>6</th>\n",
       "      <td>o</td>\n",
       "      <td>1.893082</td>\n",
       "      <td>159</td>\n",
       "    </tr>\n",
       "    <tr>\n",
       "      <th>7</th>\n",
       "      <td>q</td>\n",
       "      <td>2.271434</td>\n",
       "      <td>5692</td>\n",
       "    </tr>\n",
       "    <tr>\n",
       "      <th>8</th>\n",
       "      <td>s</td>\n",
       "      <td>2.049133</td>\n",
       "      <td>346</td>\n",
       "    </tr>\n",
       "    <tr>\n",
       "      <th>9</th>\n",
       "      <td>u</td>\n",
       "      <td>1.918334</td>\n",
       "      <td>3649</td>\n",
       "    </tr>\n",
       "  </tbody>\n",
       "</table>\n",
       "</div>"
      ],
      "text/plain": [
       "  plan_configuracion  nivel_danio  cantidad_edificios\n",
       "0                  a     1.853175                 252\n",
       "1                  c     1.836923                 325\n",
       "2                  d     2.243646              250072\n",
       "3                  f     2.272727                  22\n",
       "4                  m     1.913043                  46\n",
       "5                  n     2.157895                  38\n",
       "6                  o     1.893082                 159\n",
       "7                  q     2.271434                5692\n",
       "8                  s     2.049133                 346\n",
       "9                  u     1.918334                3649"
      ]
     },
     "execution_count": 118,
     "metadata": {},
     "output_type": "execute_result"
    }
   ],
   "source": [
    "plan_config = estructura[['id_edificio', 'plan_configuracion', 'nivel_danio']].\\\n",
    "            groupby('plan_configuracion').agg({'nivel_danio':'mean', 'id_edificio':'count'})\n",
    "plan_config = plan_config.reset_index()\n",
    "plan_config = plan_config.rename(columns={'id_edificio':'cantidad_edificios'})\n",
    "plan_config"
   ]
  },
  {
   "cell_type": "code",
   "execution_count": 119,
   "id": "081c8604",
   "metadata": {},
   "outputs": [
    {
     "data": {
      "text/plain": [
       "Text(0, 0.5, 'Plan de configuración')"
      ]
     },
     "execution_count": 119,
     "metadata": {},
     "output_type": "execute_result"
    },
    {
     "data": {
      "image/png": "[encoded data removed]",
      "text/plain": [
       "<Figure size 432x288 with 1 Axes>"
      ]
     },
     "metadata": {},
     "output_type": "display_data"
    }
   ],
   "source": [
    "sns.set_theme(style=\"whitegrid\")\n",
    "g = sns.barplot(x=plan_config['nivel_danio'], y=plan_config['plan_configuracion'], data=plan_config,\\\n",
    "                orient=\"h\")\n",
    "g.set_title('Distribución de daño por diferentes planes de configuración')\n",
    "g.set_xlabel('Daño promedio causado')\n",
    "g.set_ylabel('Plan de configuración')"
   ]
  },
  {
   "cell_type": "code",
   "execution_count": 120,
   "id": "541621a7",
   "metadata": {},
   "outputs": [
    {
     "data": {
      "text/plain": [
       "Text(0, 0.5, 'Plan de configuración')"
      ]
     },
     "execution_count": 120,
     "metadata": {},
     "output_type": "execute_result"
    },
    {
     "data": {
      "image/png": "[encoded data removed]",
      "text/plain": [
       "<Figure size 432x288 with 1 Axes>"
      ]
     },
     "metadata": {},
     "output_type": "display_data"
    }
   ],
   "source": [
    "g = sns.barplot(x=plan_config['cantidad_edificios'], y=plan_config['plan_configuracion'], data=plan_config,\\\n",
    "                orient=\"h\")\n",
    "g.set_title('Distribución de planes de configuraciones por edificios')\n",
    "g.set_xlabel('Daño promedio causado')\n",
    "g.set_ylabel('Plan de configuración')"
   ]
  }
 ],
 "metadata": {
  "kernelspec": {
   "display_name": "Python 3",
   "language": "python",
   "name": "python3"
  },
  "language_info": {
   "codemirror_mode": {
    "name": "ipython",
    "version": 3
   },
   "file_extension": ".py",
   "mimetype": "text/x-python",
   "name": "python",
   "nbconvert_exporter": "python",
   "pygments_lexer": "ipython3",
   "version": "3.8.5"
  }
 },
 "nbformat": 4,
 "nbformat_minor": 5
}
