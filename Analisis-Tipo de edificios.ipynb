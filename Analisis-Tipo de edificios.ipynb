{
 "cells": [
  {
   "cell_type": "code",
   "execution_count": 30,
   "metadata": {},
   "outputs": [],
   "source": [
    "import pandas as pd\n",
    "import numpy as np\n",
    "import matplotlib.pyplot as plt\n",
    "import seaborn as sns\n",
    "import re\n",
    "\n",
    "from mpl_toolkits.mplot3d import axes3d\n",
    "from matplotlib import style\n",
    "\n",
    "%matplotlib inline"
   ]
  },
  {
   "cell_type": "code",
   "execution_count": 31,
   "metadata": {},
   "outputs": [],
   "source": [
    "train=pd.read_csv('train_values.csv', low_memory=False)\n",
    "labels=pd.read_csv('train_labels.csv', low_memory=False)"
   ]
  },
  {
   "cell_type": "code",
   "execution_count": 32,
   "metadata": {
    "scrolled": true
   },
   "outputs": [
    {
     "data": {
      "text/html": [
       "<div>\n",
       "<style scoped>\n",
       "    .dataframe tbody tr th:only-of-type {\n",
       "        vertical-align: middle;\n",
       "    }\n",
       "\n",
       "    .dataframe tbody tr th {\n",
       "        vertical-align: top;\n",
       "    }\n",
       "\n",
       "    .dataframe thead th {\n",
       "        text-align: right;\n",
       "    }\n",
       "</style>\n",
       "<table border=\"1\" class=\"dataframe\">\n",
       "  <thead>\n",
       "    <tr style=\"text-align: right;\">\n",
       "      <th></th>\n",
       "      <th>building_id</th>\n",
       "      <th>geo_level_1_id</th>\n",
       "      <th>geo_level_2_id</th>\n",
       "      <th>geo_level_3_id</th>\n",
       "      <th>count_floors_pre_eq</th>\n",
       "      <th>age</th>\n",
       "      <th>area_percentage</th>\n",
       "      <th>height_percentage</th>\n",
       "      <th>land_surface_condition</th>\n",
       "      <th>foundation_type</th>\n",
       "      <th>...</th>\n",
       "      <th>has_secondary_use_hotel</th>\n",
       "      <th>has_secondary_use_rental</th>\n",
       "      <th>has_secondary_use_institution</th>\n",
       "      <th>has_secondary_use_school</th>\n",
       "      <th>has_secondary_use_industry</th>\n",
       "      <th>has_secondary_use_health_post</th>\n",
       "      <th>has_secondary_use_gov_office</th>\n",
       "      <th>has_secondary_use_use_police</th>\n",
       "      <th>has_secondary_use_other</th>\n",
       "      <th>damage_grade</th>\n",
       "    </tr>\n",
       "  </thead>\n",
       "  <tbody>\n",
       "    <tr>\n",
       "      <th>0</th>\n",
       "      <td>802906</td>\n",
       "      <td>6</td>\n",
       "      <td>487</td>\n",
       "      <td>12198</td>\n",
       "      <td>2</td>\n",
       "      <td>30</td>\n",
       "      <td>6</td>\n",
       "      <td>5</td>\n",
       "      <td>t</td>\n",
       "      <td>r</td>\n",
       "      <td>...</td>\n",
       "      <td>0</td>\n",
       "      <td>0</td>\n",
       "      <td>0</td>\n",
       "      <td>0</td>\n",
       "      <td>0</td>\n",
       "      <td>0</td>\n",
       "      <td>0</td>\n",
       "      <td>0</td>\n",
       "      <td>0</td>\n",
       "      <td>3</td>\n",
       "    </tr>\n",
       "    <tr>\n",
       "      <th>1</th>\n",
       "      <td>28830</td>\n",
       "      <td>8</td>\n",
       "      <td>900</td>\n",
       "      <td>2812</td>\n",
       "      <td>2</td>\n",
       "      <td>10</td>\n",
       "      <td>8</td>\n",
       "      <td>7</td>\n",
       "      <td>o</td>\n",
       "      <td>r</td>\n",
       "      <td>...</td>\n",
       "      <td>0</td>\n",
       "      <td>0</td>\n",
       "      <td>0</td>\n",
       "      <td>0</td>\n",
       "      <td>0</td>\n",
       "      <td>0</td>\n",
       "      <td>0</td>\n",
       "      <td>0</td>\n",
       "      <td>0</td>\n",
       "      <td>2</td>\n",
       "    </tr>\n",
       "    <tr>\n",
       "      <th>2</th>\n",
       "      <td>94947</td>\n",
       "      <td>21</td>\n",
       "      <td>363</td>\n",
       "      <td>8973</td>\n",
       "      <td>2</td>\n",
       "      <td>10</td>\n",
       "      <td>5</td>\n",
       "      <td>5</td>\n",
       "      <td>t</td>\n",
       "      <td>r</td>\n",
       "      <td>...</td>\n",
       "      <td>0</td>\n",
       "      <td>0</td>\n",
       "      <td>0</td>\n",
       "      <td>0</td>\n",
       "      <td>0</td>\n",
       "      <td>0</td>\n",
       "      <td>0</td>\n",
       "      <td>0</td>\n",
       "      <td>0</td>\n",
       "      <td>3</td>\n",
       "    </tr>\n",
       "    <tr>\n",
       "      <th>3</th>\n",
       "      <td>590882</td>\n",
       "      <td>22</td>\n",
       "      <td>418</td>\n",
       "      <td>10694</td>\n",
       "      <td>2</td>\n",
       "      <td>10</td>\n",
       "      <td>6</td>\n",
       "      <td>5</td>\n",
       "      <td>t</td>\n",
       "      <td>r</td>\n",
       "      <td>...</td>\n",
       "      <td>0</td>\n",
       "      <td>0</td>\n",
       "      <td>0</td>\n",
       "      <td>0</td>\n",
       "      <td>0</td>\n",
       "      <td>0</td>\n",
       "      <td>0</td>\n",
       "      <td>0</td>\n",
       "      <td>0</td>\n",
       "      <td>2</td>\n",
       "    </tr>\n",
       "    <tr>\n",
       "      <th>4</th>\n",
       "      <td>201944</td>\n",
       "      <td>11</td>\n",
       "      <td>131</td>\n",
       "      <td>1488</td>\n",
       "      <td>3</td>\n",
       "      <td>30</td>\n",
       "      <td>8</td>\n",
       "      <td>9</td>\n",
       "      <td>t</td>\n",
       "      <td>r</td>\n",
       "      <td>...</td>\n",
       "      <td>0</td>\n",
       "      <td>0</td>\n",
       "      <td>0</td>\n",
       "      <td>0</td>\n",
       "      <td>0</td>\n",
       "      <td>0</td>\n",
       "      <td>0</td>\n",
       "      <td>0</td>\n",
       "      <td>0</td>\n",
       "      <td>3</td>\n",
       "    </tr>\n",
       "  </tbody>\n",
       "</table>\n",
       "<p>5 rows × 40 columns</p>\n",
       "</div>"
      ],
      "text/plain": [
       "   building_id  geo_level_1_id  geo_level_2_id  geo_level_3_id  \\\n",
       "0       802906               6             487           12198   \n",
       "1        28830               8             900            2812   \n",
       "2        94947              21             363            8973   \n",
       "3       590882              22             418           10694   \n",
       "4       201944              11             131            1488   \n",
       "\n",
       "   count_floors_pre_eq  age  area_percentage  height_percentage  \\\n",
       "0                    2   30                6                  5   \n",
       "1                    2   10                8                  7   \n",
       "2                    2   10                5                  5   \n",
       "3                    2   10                6                  5   \n",
       "4                    3   30                8                  9   \n",
       "\n",
       "  land_surface_condition foundation_type      ...       \\\n",
       "0                      t               r      ...        \n",
       "1                      o               r      ...        \n",
       "2                      t               r      ...        \n",
       "3                      t               r      ...        \n",
       "4                      t               r      ...        \n",
       "\n",
       "  has_secondary_use_hotel has_secondary_use_rental  \\\n",
       "0                       0                        0   \n",
       "1                       0                        0   \n",
       "2                       0                        0   \n",
       "3                       0                        0   \n",
       "4                       0                        0   \n",
       "\n",
       "  has_secondary_use_institution has_secondary_use_school  \\\n",
       "0                             0                        0   \n",
       "1                             0                        0   \n",
       "2                             0                        0   \n",
       "3                             0                        0   \n",
       "4                             0                        0   \n",
       "\n",
       "  has_secondary_use_industry  has_secondary_use_health_post  \\\n",
       "0                          0                              0   \n",
       "1                          0                              0   \n",
       "2                          0                              0   \n",
       "3                          0                              0   \n",
       "4                          0                              0   \n",
       "\n",
       "   has_secondary_use_gov_office  has_secondary_use_use_police  \\\n",
       "0                             0                             0   \n",
       "1                             0                             0   \n",
       "2                             0                             0   \n",
       "3                             0                             0   \n",
       "4                             0                             0   \n",
       "\n",
       "   has_secondary_use_other  damage_grade  \n",
       "0                        0             3  \n",
       "1                        0             2  \n",
       "2                        0             3  \n",
       "3                        0             2  \n",
       "4                        0             3  \n",
       "\n",
       "[5 rows x 40 columns]"
      ]
     },
     "execution_count": 32,
     "metadata": {},
     "output_type": "execute_result"
    }
   ],
   "source": [
    "union=train.merge(labels, how='inner', on='building_id')\n",
    "union.head()"
   ]
  },
  {
   "cell_type": "code",
   "execution_count": 44,
   "metadata": {},
   "outputs": [],
   "source": [
    "df2=union.rename(columns={'has_superstructure_adobe_mud':'adobe-barro',\n",
    "                   'has_superstructure_mud_mortar_stone':'barro-piedra',\n",
    "                   'has_superstructure_stone_flag':'piedra',\n",
    "                   'has_superstructure_cement_mortar_stone':'cemento-piedra',\n",
    "                   'has_superstructure_mud_mortar_brick':'barro-ladrillo',\n",
    "                   'has_superstructure_cement_mortar_brick':'cemento-ladrillos',\n",
    "                   'has_superstructure_timber':'Timber',\n",
    "                   'has_superstructure_bamboo':'Bambú',\n",
    "                   'has_superstructure_rc_non_engineered':'concreto_reforzado_no_diseñado',\n",
    "                   'has_superstructure_rc_engineered':'concreto_reforzado_diseñado',\n",
    "                   'has_superstructure_other':'estructura_otro',\n",
    "                   'has_secondary_use':'uso_secundario',\n",
    "                   'has_secondary_use_agriculture':'uso_agricultura',\n",
    "                   'has_secondary_use_hotel':'uso_hotel',\n",
    "                   'has_secondary_use_rental':'uso_rental',\n",
    "                    'has_secondary_use_institution':'uso_institucion',\n",
    "                    'has_secondary_use_school':'uso_escuela',\n",
    "                    'has_secondary_use_industry':'uso_industrial',\n",
    "                    'has_secondary_use_health_post':'uso_PuestoDeSalud',\n",
    "                    'has_secondary_use_gov_office':'uso_oficinaDeGobierno',\n",
    "                    'has_secondary_use_use_police':'uso_estacionDePolicia',\n",
    "                    'has_secondary_use_other':'uso_de_otros'})"
   ]
  },
  {
   "cell_type": "markdown",
   "metadata": {},
   "source": [
    "## Analisis material de construccion "
   ]
  },
  {
   "cell_type": "markdown",
   "metadata": {},
   "source": [
    "### <font color =blue> ***1. ¿Cual es el material que mas abunda?*** </font>"
   ]
  },
  {
   "cell_type": "code",
   "execution_count": 12,
   "metadata": {},
   "outputs": [],
   "source": [
    "materiales=df2.loc[:,['adobe-barro','barro-piedra','piedra','cemento-piedra','barro-ladrillo','cemento-ladrillos',\n",
    "                      'Timber','Bambú','concreto_reforzado_no_diseñado','concreto_reforzado_diseñado','estructura_otro']]"
   ]
  },
  {
   "cell_type": "code",
   "execution_count": 13,
   "metadata": {},
   "outputs": [
    {
     "data": {
      "text/html": [
       "<div>\n",
       "<style scoped>\n",
       "    .dataframe tbody tr th:only-of-type {\n",
       "        vertical-align: middle;\n",
       "    }\n",
       "\n",
       "    .dataframe tbody tr th {\n",
       "        vertical-align: top;\n",
       "    }\n",
       "\n",
       "    .dataframe thead th {\n",
       "        text-align: right;\n",
       "    }\n",
       "</style>\n",
       "<table border=\"1\" class=\"dataframe\">\n",
       "  <thead>\n",
       "    <tr style=\"text-align: right;\">\n",
       "      <th></th>\n",
       "      <th>sum</th>\n",
       "      <th>mean</th>\n",
       "    </tr>\n",
       "  </thead>\n",
       "  <tbody>\n",
       "    <tr>\n",
       "      <th>adobe-barro</th>\n",
       "      <td>23101.0</td>\n",
       "      <td>0.088645</td>\n",
       "    </tr>\n",
       "    <tr>\n",
       "      <th>barro-piedra</th>\n",
       "      <td>198561.0</td>\n",
       "      <td>0.761935</td>\n",
       "    </tr>\n",
       "    <tr>\n",
       "      <th>piedra</th>\n",
       "      <td>8947.0</td>\n",
       "      <td>0.034332</td>\n",
       "    </tr>\n",
       "    <tr>\n",
       "      <th>cemento-piedra</th>\n",
       "      <td>4752.0</td>\n",
       "      <td>0.018235</td>\n",
       "    </tr>\n",
       "    <tr>\n",
       "      <th>barro-ladrillo</th>\n",
       "      <td>17761.0</td>\n",
       "      <td>0.068154</td>\n",
       "    </tr>\n",
       "    <tr>\n",
       "      <th>cemento-ladrillos</th>\n",
       "      <td>19615.0</td>\n",
       "      <td>0.075268</td>\n",
       "    </tr>\n",
       "    <tr>\n",
       "      <th>Timber</th>\n",
       "      <td>66450.0</td>\n",
       "      <td>0.254988</td>\n",
       "    </tr>\n",
       "    <tr>\n",
       "      <th>Bambú</th>\n",
       "      <td>22154.0</td>\n",
       "      <td>0.085011</td>\n",
       "    </tr>\n",
       "    <tr>\n",
       "      <th>concreto_reforzado_no_diseñado</th>\n",
       "      <td>11099.0</td>\n",
       "      <td>0.042590</td>\n",
       "    </tr>\n",
       "    <tr>\n",
       "      <th>concreto_reforzado_diseñado</th>\n",
       "      <td>4133.0</td>\n",
       "      <td>0.015859</td>\n",
       "    </tr>\n",
       "    <tr>\n",
       "      <th>estructura_otro</th>\n",
       "      <td>3905.0</td>\n",
       "      <td>0.014985</td>\n",
       "    </tr>\n",
       "  </tbody>\n",
       "</table>\n",
       "</div>"
      ],
      "text/plain": [
       "                                     sum      mean\n",
       "adobe-barro                      23101.0  0.088645\n",
       "barro-piedra                    198561.0  0.761935\n",
       "piedra                            8947.0  0.034332\n",
       "cemento-piedra                    4752.0  0.018235\n",
       "barro-ladrillo                   17761.0  0.068154\n",
       "cemento-ladrillos                19615.0  0.075268\n",
       "Timber                           66450.0  0.254988\n",
       "Bambú                            22154.0  0.085011\n",
       "concreto_reforzado_no_diseñado   11099.0  0.042590\n",
       "concreto_reforzado_diseñado       4133.0  0.015859\n",
       "estructura_otro                   3905.0  0.014985"
      ]
     },
     "execution_count": 13,
     "metadata": {},
     "output_type": "execute_result"
    }
   ],
   "source": [
    "grupo2=materiales.agg(['sum','mean'])\n",
    "grupo2.T"
   ]
  },
  {
   "cell_type": "code",
   "execution_count": 16,
   "metadata": {},
   "outputs": [
    {
     "data": {
      "text/plain": [
       "sum     float64\n",
       "mean    float64\n",
       "dtype: object"
      ]
     },
     "execution_count": 16,
     "metadata": {},
     "output_type": "execute_result"
    }
   ],
   "source": [
    "grupo2.T.dtypes"
   ]
  },
  {
   "cell_type": "code",
   "execution_count": 17,
   "metadata": {},
   "outputs": [
    {
     "data": {
      "text/plain": [
       "Text(0.5,1,'Cantidad de Materiales')"
      ]
     },
     "execution_count": 17,
     "metadata": {},
     "output_type": "execute_result"
    },
    {
     "data": {
      "image/png": "[encoded data removed]",
      "text/plain": [
       "<Figure size 1080x720 with 1 Axes>"
      ]
     },
     "metadata": {},
     "output_type": "display_data"
    }
   ],
   "source": [
    "cant_materiales=materiales.agg('sum')\n",
    "\n",
    "visua= cant_materiales.T.plot.barh(figsize=(15,10))\n",
    "visua.set_xlabel(\"Cantidad\", fontsize=15)\n",
    "visua.set_ylabel(\"Materiales\", fontsize=15)\n",
    "visua.set_title('Cantidad de Materiales', fontsize = 20)\n"
   ]
  },
  {
   "cell_type": "markdown",
   "metadata": {},
   "source": [
    "### <font color =blue> ***2. ¿Cual es el material que mas daño sufrio y que grado tuvo?*** </font>\n",
    "\n"
   ]
  },
  {
   "cell_type": "code",
   "execution_count": 27,
   "metadata": {},
   "outputs": [
    {
     "data": {
      "text/html": [
       "<div>\n",
       "<style scoped>\n",
       "    .dataframe tbody tr th:only-of-type {\n",
       "        vertical-align: middle;\n",
       "    }\n",
       "\n",
       "    .dataframe tbody tr th {\n",
       "        vertical-align: top;\n",
       "    }\n",
       "\n",
       "    .dataframe thead th {\n",
       "        text-align: right;\n",
       "    }\n",
       "</style>\n",
       "<table border=\"1\" class=\"dataframe\">\n",
       "  <thead>\n",
       "    <tr style=\"text-align: right;\">\n",
       "      <th></th>\n",
       "      <th>adobe-barro</th>\n",
       "      <th>barro-piedra</th>\n",
       "      <th>piedra</th>\n",
       "      <th>cemento-piedra</th>\n",
       "      <th>barro-ladrillo</th>\n",
       "      <th>cemento-ladrillos</th>\n",
       "      <th>Timber</th>\n",
       "      <th>Bambú</th>\n",
       "      <th>concreto_reforzado_no_diseñado</th>\n",
       "      <th>concreto_reforzado_diseñado</th>\n",
       "      <th>estructura_otro</th>\n",
       "    </tr>\n",
       "    <tr>\n",
       "      <th>damage_grade</th>\n",
       "      <th></th>\n",
       "      <th></th>\n",
       "      <th></th>\n",
       "      <th></th>\n",
       "      <th></th>\n",
       "      <th></th>\n",
       "      <th></th>\n",
       "      <th></th>\n",
       "      <th></th>\n",
       "      <th></th>\n",
       "      <th></th>\n",
       "    </tr>\n",
       "  </thead>\n",
       "  <tbody>\n",
       "    <tr>\n",
       "      <th>1</th>\n",
       "      <td>594</td>\n",
       "      <td>8760</td>\n",
       "      <td>182</td>\n",
       "      <td>829</td>\n",
       "      <td>623</td>\n",
       "      <td>7105</td>\n",
       "      <td>7642</td>\n",
       "      <td>2839</td>\n",
       "      <td>3857</td>\n",
       "      <td>2656</td>\n",
       "      <td>656</td>\n",
       "    </tr>\n",
       "    <tr>\n",
       "      <th>2</th>\n",
       "      <td>13902</td>\n",
       "      <td>113947</td>\n",
       "      <td>4534</td>\n",
       "      <td>3248</td>\n",
       "      <td>11698</td>\n",
       "      <td>11421</td>\n",
       "      <td>40187</td>\n",
       "      <td>14001</td>\n",
       "      <td>5832</td>\n",
       "      <td>1402</td>\n",
       "      <td>2248</td>\n",
       "    </tr>\n",
       "    <tr>\n",
       "      <th>3</th>\n",
       "      <td>8605</td>\n",
       "      <td>75854</td>\n",
       "      <td>4231</td>\n",
       "      <td>675</td>\n",
       "      <td>5440</td>\n",
       "      <td>1089</td>\n",
       "      <td>18621</td>\n",
       "      <td>5314</td>\n",
       "      <td>1410</td>\n",
       "      <td>75</td>\n",
       "      <td>1001</td>\n",
       "    </tr>\n",
       "  </tbody>\n",
       "</table>\n",
       "</div>"
      ],
      "text/plain": [
       "              adobe-barro  barro-piedra  piedra  cemento-piedra  \\\n",
       "damage_grade                                                      \n",
       "1                     594          8760     182             829   \n",
       "2                   13902        113947    4534            3248   \n",
       "3                    8605         75854    4231             675   \n",
       "\n",
       "              barro-ladrillo  cemento-ladrillos  Timber  Bambú  \\\n",
       "damage_grade                                                     \n",
       "1                        623               7105    7642   2839   \n",
       "2                      11698              11421   40187  14001   \n",
       "3                       5440               1089   18621   5314   \n",
       "\n",
       "              concreto_reforzado_no_diseñado  concreto_reforzado_diseñado  \\\n",
       "damage_grade                                                                \n",
       "1                                       3857                         2656   \n",
       "2                                       5832                         1402   \n",
       "3                                       1410                           75   \n",
       "\n",
       "              estructura_otro  \n",
       "damage_grade                   \n",
       "1                         656  \n",
       "2                        2248  \n",
       "3                        1001  "
      ]
     },
     "execution_count": 27,
     "metadata": {},
     "output_type": "execute_result"
    }
   ],
   "source": [
    "daños_de_materiales=df2.loc[:,['damage_grade','adobe-barro','barro-piedra','piedra','cemento-piedra','barro-ladrillo','cemento-ladrillos',\n",
    "                      'Timber','Bambú','concreto_reforzado_no_diseñado','concreto_reforzado_diseñado','estructura_otro']]\n",
    "agrupo=daños_de_materiales.groupby('damage_grade').sum()\n",
    "agrupo"
   ]
  },
  {
   "cell_type": "code",
   "execution_count": 26,
   "metadata": {},
   "outputs": [
    {
     "data": {
      "text/html": [
       "<div>\n",
       "<style scoped>\n",
       "    .dataframe tbody tr th:only-of-type {\n",
       "        vertical-align: middle;\n",
       "    }\n",
       "\n",
       "    .dataframe tbody tr th {\n",
       "        vertical-align: top;\n",
       "    }\n",
       "\n",
       "    .dataframe thead th {\n",
       "        text-align: right;\n",
       "    }\n",
       "</style>\n",
       "<table border=\"1\" class=\"dataframe\">\n",
       "  <thead>\n",
       "    <tr style=\"text-align: right;\">\n",
       "      <th>damage_grade</th>\n",
       "      <th>1</th>\n",
       "      <th>2</th>\n",
       "      <th>3</th>\n",
       "    </tr>\n",
       "  </thead>\n",
       "  <tbody>\n",
       "    <tr>\n",
       "      <th>adobe-barro</th>\n",
       "      <td>594</td>\n",
       "      <td>13902</td>\n",
       "      <td>8605</td>\n",
       "    </tr>\n",
       "    <tr>\n",
       "      <th>barro-piedra</th>\n",
       "      <td>8760</td>\n",
       "      <td>113947</td>\n",
       "      <td>75854</td>\n",
       "    </tr>\n",
       "    <tr>\n",
       "      <th>piedra</th>\n",
       "      <td>182</td>\n",
       "      <td>4534</td>\n",
       "      <td>4231</td>\n",
       "    </tr>\n",
       "    <tr>\n",
       "      <th>cemento-piedra</th>\n",
       "      <td>829</td>\n",
       "      <td>3248</td>\n",
       "      <td>675</td>\n",
       "    </tr>\n",
       "    <tr>\n",
       "      <th>barro-ladrillo</th>\n",
       "      <td>623</td>\n",
       "      <td>11698</td>\n",
       "      <td>5440</td>\n",
       "    </tr>\n",
       "    <tr>\n",
       "      <th>cemento-ladrillos</th>\n",
       "      <td>7105</td>\n",
       "      <td>11421</td>\n",
       "      <td>1089</td>\n",
       "    </tr>\n",
       "    <tr>\n",
       "      <th>Timber</th>\n",
       "      <td>7642</td>\n",
       "      <td>40187</td>\n",
       "      <td>18621</td>\n",
       "    </tr>\n",
       "    <tr>\n",
       "      <th>Bambú</th>\n",
       "      <td>2839</td>\n",
       "      <td>14001</td>\n",
       "      <td>5314</td>\n",
       "    </tr>\n",
       "    <tr>\n",
       "      <th>concreto_reforzado_no_diseñado</th>\n",
       "      <td>3857</td>\n",
       "      <td>5832</td>\n",
       "      <td>1410</td>\n",
       "    </tr>\n",
       "    <tr>\n",
       "      <th>concreto_reforzado_diseñado</th>\n",
       "      <td>2656</td>\n",
       "      <td>1402</td>\n",
       "      <td>75</td>\n",
       "    </tr>\n",
       "    <tr>\n",
       "      <th>estructura_otro</th>\n",
       "      <td>656</td>\n",
       "      <td>2248</td>\n",
       "      <td>1001</td>\n",
       "    </tr>\n",
       "  </tbody>\n",
       "</table>\n",
       "</div>"
      ],
      "text/plain": [
       "damage_grade                       1       2      3\n",
       "adobe-barro                      594   13902   8605\n",
       "barro-piedra                    8760  113947  75854\n",
       "piedra                           182    4534   4231\n",
       "cemento-piedra                   829    3248    675\n",
       "barro-ladrillo                   623   11698   5440\n",
       "cemento-ladrillos               7105   11421   1089\n",
       "Timber                          7642   40187  18621\n",
       "Bambú                           2839   14001   5314\n",
       "concreto_reforzado_no_diseñado  3857    5832   1410\n",
       "concreto_reforzado_diseñado     2656    1402     75\n",
       "estructura_otro                  656    2248   1001"
      ]
     },
     "execution_count": 26,
     "metadata": {},
     "output_type": "execute_result"
    }
   ],
   "source": [
    "agrupoT=agrupo.T\n",
    "agrupoT"
   ]
  },
  {
   "cell_type": "code",
   "execution_count": 22,
   "metadata": {},
   "outputs": [
    {
     "data": {
      "text/plain": [
       "Text(0.5,1,'Daño de los distintos Materiales')"
      ]
     },
     "execution_count": 22,
     "metadata": {},
     "output_type": "execute_result"
    },
    {
     "data": {
      "image/png": "[encoded data removed]",
      "text/plain": [
       "<Figure size 1080x720 with 1 Axes>"
      ]
     },
     "metadata": {},
     "output_type": "display_data"
    }
   ],
   "source": [
    "visua2= agrupoT.plot.barh(figsize=(15,10))\n",
    "visua2.set_xlabel(\"Cantidad\", fontsize=15)\n",
    "visua2.set_ylabel(\"Materiales\", fontsize=15)\n",
    "visua2.set_title('Daño de los distintos Materiales', fontsize = 20)"
   ]
  },
  {
   "cell_type": "markdown",
   "metadata": {},
   "source": [
    "## Anailsis de Edificios"
   ]
  },
  {
   "cell_type": "markdown",
   "metadata": {},
   "source": [
    "### <font color =blue> ***3.¿Que tipo de edificios existe?*** </font>\n"
   ]
  },
  {
   "cell_type": "code",
   "execution_count": 46,
   "metadata": {},
   "outputs": [
    {
     "data": {
      "text/plain": [
       "Index(['building_id', 'geo_level_1_id', 'geo_level_2_id', 'geo_level_3_id',\n",
       "       'count_floors_pre_eq', 'age', 'area_percentage', 'height_percentage',\n",
       "       'land_surface_condition', 'foundation_type', 'roof_type',\n",
       "       'ground_floor_type', 'other_floor_type', 'position',\n",
       "       'plan_configuration', 'adobe-barro', 'barro-piedra', 'piedra',\n",
       "       'cemento-piedra', 'barro-ladrillo', 'cemento-ladrillos', 'Timber',\n",
       "       'Bambú', 'concreto_reforzado_no_diseñado',\n",
       "       'concreto_reforzado_diseñado', 'estructura_otro',\n",
       "       'legal_ownership_status', 'count_families', 'uso_secundario',\n",
       "       'uso_agricultura', 'uso_hotel', 'uso_rental', 'uso_institucion',\n",
       "       'uso_escuela', 'uso_industrial', 'uso_PuestoDeSalud',\n",
       "       'uso_oficinaDeGobierno', 'uso_estacionDePolicia', 'uso_de_otros',\n",
       "       'damage_grade'],\n",
       "      dtype='object')"
      ]
     },
     "execution_count": 46,
     "metadata": {},
     "output_type": "execute_result"
    }
   ],
   "source": [
    "df2.columns"
   ]
  },
  {
   "cell_type": "code",
   "execution_count": 52,
   "metadata": {},
   "outputs": [
    {
     "data": {
      "text/html": [
       "<div>\n",
       "<style scoped>\n",
       "    .dataframe tbody tr th:only-of-type {\n",
       "        vertical-align: middle;\n",
       "    }\n",
       "\n",
       "    .dataframe tbody tr th {\n",
       "        vertical-align: top;\n",
       "    }\n",
       "\n",
       "    .dataframe thead th {\n",
       "        text-align: right;\n",
       "    }\n",
       "</style>\n",
       "<table border=\"1\" class=\"dataframe\">\n",
       "  <thead>\n",
       "    <tr style=\"text-align: right;\">\n",
       "      <th></th>\n",
       "      <th>sum</th>\n",
       "      <th>mean</th>\n",
       "    </tr>\n",
       "  </thead>\n",
       "  <tbody>\n",
       "    <tr>\n",
       "      <th>uso_secundario</th>\n",
       "      <td>29156.0</td>\n",
       "      <td>0.111880</td>\n",
       "    </tr>\n",
       "    <tr>\n",
       "      <th>uso_agricultura</th>\n",
       "      <td>16777.0</td>\n",
       "      <td>0.064378</td>\n",
       "    </tr>\n",
       "    <tr>\n",
       "      <th>uso_hotel</th>\n",
       "      <td>8763.0</td>\n",
       "      <td>0.033626</td>\n",
       "    </tr>\n",
       "    <tr>\n",
       "      <th>uso_rental</th>\n",
       "      <td>2111.0</td>\n",
       "      <td>0.008101</td>\n",
       "    </tr>\n",
       "    <tr>\n",
       "      <th>uso_institucion</th>\n",
       "      <td>245.0</td>\n",
       "      <td>0.000940</td>\n",
       "    </tr>\n",
       "    <tr>\n",
       "      <th>uso_escuela</th>\n",
       "      <td>94.0</td>\n",
       "      <td>0.000361</td>\n",
       "    </tr>\n",
       "    <tr>\n",
       "      <th>uso_industrial</th>\n",
       "      <td>279.0</td>\n",
       "      <td>0.001071</td>\n",
       "    </tr>\n",
       "    <tr>\n",
       "      <th>uso_PuestoDeSalud</th>\n",
       "      <td>49.0</td>\n",
       "      <td>0.000188</td>\n",
       "    </tr>\n",
       "    <tr>\n",
       "      <th>uso_oficinaDeGobierno</th>\n",
       "      <td>38.0</td>\n",
       "      <td>0.000146</td>\n",
       "    </tr>\n",
       "    <tr>\n",
       "      <th>uso_estacionDePolicia</th>\n",
       "      <td>23.0</td>\n",
       "      <td>0.000088</td>\n",
       "    </tr>\n",
       "    <tr>\n",
       "      <th>uso_de_otros</th>\n",
       "      <td>1334.0</td>\n",
       "      <td>0.005119</td>\n",
       "    </tr>\n",
       "  </tbody>\n",
       "</table>\n",
       "</div>"
      ],
      "text/plain": [
       "                           sum      mean\n",
       "uso_secundario         29156.0  0.111880\n",
       "uso_agricultura        16777.0  0.064378\n",
       "uso_hotel               8763.0  0.033626\n",
       "uso_rental              2111.0  0.008101\n",
       "uso_institucion          245.0  0.000940\n",
       "uso_escuela               94.0  0.000361\n",
       "uso_industrial           279.0  0.001071\n",
       "uso_PuestoDeSalud         49.0  0.000188\n",
       "uso_oficinaDeGobierno     38.0  0.000146\n",
       "uso_estacionDePolicia     23.0  0.000088\n",
       "uso_de_otros            1334.0  0.005119"
      ]
     },
     "execution_count": 52,
     "metadata": {},
     "output_type": "execute_result"
    }
   ],
   "source": [
    "edificios=df2.loc[:,['uso_secundario','uso_agricultura', 'uso_hotel', 'uso_rental', 'uso_institucion','uso_escuela', \n",
    "                     'uso_industrial', 'uso_PuestoDeSalud','uso_oficinaDeGobierno', 'uso_estacionDePolicia', 'uso_de_otros']]\n",
    "cantidadDeEdificios=edificios.agg(['sum','mean'])\n",
    "cantidadDeEdificios.T"
   ]
  },
  {
   "cell_type": "code",
   "execution_count": 54,
   "metadata": {},
   "outputs": [
    {
     "data": {
      "text/plain": [
       "Text(0.5,1,'Cantidad de Edificios')"
      ]
     },
     "execution_count": 54,
     "metadata": {},
     "output_type": "execute_result"
    },
    {
     "data": {
      "image/png": "[encoded data removed]",
      "text/plain": [
       "<Figure size 1080x720 with 1 Axes>"
      ]
     },
     "metadata": {},
     "output_type": "display_data"
    }
   ],
   "source": [
    "cant_edificios=edificios.agg('sum')\n",
    "\n",
    "visua= cant_edificios.T.plot.barh(figsize=(15,10))\n",
    "visua.set_xlabel(\"Cantidad\", fontsize=15)\n",
    "visua.set_ylabel(\"Edificios\", fontsize=15)\n",
    "visua.set_title('Cantidad de Edificios', fontsize = 20)\n"
   ]
  },
  {
   "cell_type": "markdown",
   "metadata": {},
   "source": [
    "### <font color =blue> ***4.¿Esos edificios de que material son?*** </font>"
   ]
  },
  {
   "cell_type": "markdown",
   "metadata": {},
   "source": [
    "## Analisis de edificios con mayor destruccion "
   ]
  },
  {
   "cell_type": "markdown",
   "metadata": {},
   "source": [
    "### <font color =blue> ***5.¿Cuall fue el edificio que mayor destruccion tuvo?*** </font>"
   ]
  },
  {
   "cell_type": "markdown",
   "metadata": {},
   "source": [
    "### <font color =blue> ***5.1.¿Esos edificios de mayor destruccion de que material son y que cantidad de pisos tenian?*** </font>"
   ]
  },
  {
   "cell_type": "markdown",
   "metadata": {},
   "source": [
    "### <font color =blue> ***5.2.¿Influye en algo la orientacion?*** </font>"
   ]
  },
  {
   "cell_type": "markdown",
   "metadata": {},
   "source": [
    "### <font color =blue> ***5.3.¿Influye el tipo de base de piso o techo que tienen?*** </font>"
   ]
  },
  {
   "cell_type": "markdown",
   "metadata": {},
   "source": [
    "## Analisis de edificios con menor destruccion "
   ]
  },
  {
   "cell_type": "markdown",
   "metadata": {},
   "source": [
    "### <font color =blue> ***6.¿Cual fue el edificio que menor destruccion sufrio ?*** </font>"
   ]
  },
  {
   "cell_type": "markdown",
   "metadata": {},
   "source": [
    "### <font color =blue> ***6.1.¿Esos edificios de menor destruccion de que material son y que cantidad de pisos tenian?*** </font>"
   ]
  },
  {
   "cell_type": "markdown",
   "metadata": {},
   "source": [
    "### <font color =blue> ***6.2.¿Influye en algo la orientacion?*** </font>"
   ]
  },
  {
   "cell_type": "markdown",
   "metadata": {},
   "source": [
    "### <font color =blue> ***6.3.¿Influye el tipo de base de piso o techo que tienen?*** </font>"
   ]
  },
  {
   "cell_type": "code",
   "execution_count": null,
   "metadata": {},
   "outputs": [],
   "source": []
  },
  {
   "cell_type": "code",
   "execution_count": null,
   "metadata": {},
   "outputs": [],
   "source": []
  }
 ],
 "metadata": {
  "kernelspec": {
   "display_name": "Python 3",
   "language": "python",
   "name": "python3"
  },
  "language_info": {
   "codemirror_mode": {
    "name": "ipython",
    "version": 3
   },
   "file_extension": ".py",
   "mimetype": "text/x-python",
   "name": "python",
   "nbconvert_exporter": "python",
   "pygments_lexer": "ipython3",
   "version": "3.6.5"
  }
 },
 "nbformat": 4,
 "nbformat_minor": 2
}
