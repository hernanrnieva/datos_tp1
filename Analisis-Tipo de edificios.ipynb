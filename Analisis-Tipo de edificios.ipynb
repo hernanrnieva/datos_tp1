{
 "cells": [
  {
   "cell_type": "code",
   "execution_count": 281,
   "metadata": {},
   "outputs": [],
   "source": [
    "import pandas as pd\n",
    "import numpy as np\n",
    "import matplotlib.pyplot as plt\n",
    "import seaborn as sns\n",
    "import re\n",
    "\n",
    "from mpl_toolkits.mplot3d import axes3d\n",
    "from matplotlib import style\n",
    "\n",
    "%matplotlib inline\n",
    "sns.set_style(\"whitegrid\")"
   ]
  },
  {
   "cell_type": "code",
   "execution_count": 282,
   "metadata": {},
   "outputs": [],
   "source": [
    "train=pd.read_csv('train_values.csv', low_memory=False)\n",
    "labels=pd.read_csv('train_labels.csv', low_memory=False)"
   ]
  },
  {
   "cell_type": "code",
   "execution_count": 283,
   "metadata": {
    "scrolled": true
   },
   "outputs": [
    {
     "data": {
      "text/html": [
       "<div>\n",
       "<style scoped>\n",
       "    .dataframe tbody tr th:only-of-type {\n",
       "        vertical-align: middle;\n",
       "    }\n",
       "\n",
       "    .dataframe tbody tr th {\n",
       "        vertical-align: top;\n",
       "    }\n",
       "\n",
       "    .dataframe thead th {\n",
       "        text-align: right;\n",
       "    }\n",
       "</style>\n",
       "<table border=\"1\" class=\"dataframe\">\n",
       "  <thead>\n",
       "    <tr style=\"text-align: right;\">\n",
       "      <th></th>\n",
       "      <th>building_id</th>\n",
       "      <th>geo_level_1_id</th>\n",
       "      <th>geo_level_2_id</th>\n",
       "      <th>geo_level_3_id</th>\n",
       "      <th>count_floors_pre_eq</th>\n",
       "      <th>age</th>\n",
       "      <th>area_percentage</th>\n",
       "      <th>height_percentage</th>\n",
       "      <th>land_surface_condition</th>\n",
       "      <th>foundation_type</th>\n",
       "      <th>...</th>\n",
       "      <th>has_secondary_use_hotel</th>\n",
       "      <th>has_secondary_use_rental</th>\n",
       "      <th>has_secondary_use_institution</th>\n",
       "      <th>has_secondary_use_school</th>\n",
       "      <th>has_secondary_use_industry</th>\n",
       "      <th>has_secondary_use_health_post</th>\n",
       "      <th>has_secondary_use_gov_office</th>\n",
       "      <th>has_secondary_use_use_police</th>\n",
       "      <th>has_secondary_use_other</th>\n",
       "      <th>damage_grade</th>\n",
       "    </tr>\n",
       "  </thead>\n",
       "  <tbody>\n",
       "    <tr>\n",
       "      <th>0</th>\n",
       "      <td>802906</td>\n",
       "      <td>6</td>\n",
       "      <td>487</td>\n",
       "      <td>12198</td>\n",
       "      <td>2</td>\n",
       "      <td>30</td>\n",
       "      <td>6</td>\n",
       "      <td>5</td>\n",
       "      <td>t</td>\n",
       "      <td>r</td>\n",
       "      <td>...</td>\n",
       "      <td>0</td>\n",
       "      <td>0</td>\n",
       "      <td>0</td>\n",
       "      <td>0</td>\n",
       "      <td>0</td>\n",
       "      <td>0</td>\n",
       "      <td>0</td>\n",
       "      <td>0</td>\n",
       "      <td>0</td>\n",
       "      <td>3</td>\n",
       "    </tr>\n",
       "    <tr>\n",
       "      <th>1</th>\n",
       "      <td>28830</td>\n",
       "      <td>8</td>\n",
       "      <td>900</td>\n",
       "      <td>2812</td>\n",
       "      <td>2</td>\n",
       "      <td>10</td>\n",
       "      <td>8</td>\n",
       "      <td>7</td>\n",
       "      <td>o</td>\n",
       "      <td>r</td>\n",
       "      <td>...</td>\n",
       "      <td>0</td>\n",
       "      <td>0</td>\n",
       "      <td>0</td>\n",
       "      <td>0</td>\n",
       "      <td>0</td>\n",
       "      <td>0</td>\n",
       "      <td>0</td>\n",
       "      <td>0</td>\n",
       "      <td>0</td>\n",
       "      <td>2</td>\n",
       "    </tr>\n",
       "    <tr>\n",
       "      <th>2</th>\n",
       "      <td>94947</td>\n",
       "      <td>21</td>\n",
       "      <td>363</td>\n",
       "      <td>8973</td>\n",
       "      <td>2</td>\n",
       "      <td>10</td>\n",
       "      <td>5</td>\n",
       "      <td>5</td>\n",
       "      <td>t</td>\n",
       "      <td>r</td>\n",
       "      <td>...</td>\n",
       "      <td>0</td>\n",
       "      <td>0</td>\n",
       "      <td>0</td>\n",
       "      <td>0</td>\n",
       "      <td>0</td>\n",
       "      <td>0</td>\n",
       "      <td>0</td>\n",
       "      <td>0</td>\n",
       "      <td>0</td>\n",
       "      <td>3</td>\n",
       "    </tr>\n",
       "    <tr>\n",
       "      <th>3</th>\n",
       "      <td>590882</td>\n",
       "      <td>22</td>\n",
       "      <td>418</td>\n",
       "      <td>10694</td>\n",
       "      <td>2</td>\n",
       "      <td>10</td>\n",
       "      <td>6</td>\n",
       "      <td>5</td>\n",
       "      <td>t</td>\n",
       "      <td>r</td>\n",
       "      <td>...</td>\n",
       "      <td>0</td>\n",
       "      <td>0</td>\n",
       "      <td>0</td>\n",
       "      <td>0</td>\n",
       "      <td>0</td>\n",
       "      <td>0</td>\n",
       "      <td>0</td>\n",
       "      <td>0</td>\n",
       "      <td>0</td>\n",
       "      <td>2</td>\n",
       "    </tr>\n",
       "    <tr>\n",
       "      <th>4</th>\n",
       "      <td>201944</td>\n",
       "      <td>11</td>\n",
       "      <td>131</td>\n",
       "      <td>1488</td>\n",
       "      <td>3</td>\n",
       "      <td>30</td>\n",
       "      <td>8</td>\n",
       "      <td>9</td>\n",
       "      <td>t</td>\n",
       "      <td>r</td>\n",
       "      <td>...</td>\n",
       "      <td>0</td>\n",
       "      <td>0</td>\n",
       "      <td>0</td>\n",
       "      <td>0</td>\n",
       "      <td>0</td>\n",
       "      <td>0</td>\n",
       "      <td>0</td>\n",
       "      <td>0</td>\n",
       "      <td>0</td>\n",
       "      <td>3</td>\n",
       "    </tr>\n",
       "  </tbody>\n",
       "</table>\n",
       "<p>5 rows × 40 columns</p>\n",
       "</div>"
      ],
      "text/plain": [
       "   building_id  geo_level_1_id  geo_level_2_id  geo_level_3_id  \\\n",
       "0       802906               6             487           12198   \n",
       "1        28830               8             900            2812   \n",
       "2        94947              21             363            8973   \n",
       "3       590882              22             418           10694   \n",
       "4       201944              11             131            1488   \n",
       "\n",
       "   count_floors_pre_eq  age  area_percentage  height_percentage  \\\n",
       "0                    2   30                6                  5   \n",
       "1                    2   10                8                  7   \n",
       "2                    2   10                5                  5   \n",
       "3                    2   10                6                  5   \n",
       "4                    3   30                8                  9   \n",
       "\n",
       "  land_surface_condition foundation_type  ... has_secondary_use_hotel  \\\n",
       "0                      t               r  ...                       0   \n",
       "1                      o               r  ...                       0   \n",
       "2                      t               r  ...                       0   \n",
       "3                      t               r  ...                       0   \n",
       "4                      t               r  ...                       0   \n",
       "\n",
       "  has_secondary_use_rental has_secondary_use_institution  \\\n",
       "0                        0                             0   \n",
       "1                        0                             0   \n",
       "2                        0                             0   \n",
       "3                        0                             0   \n",
       "4                        0                             0   \n",
       "\n",
       "  has_secondary_use_school has_secondary_use_industry  \\\n",
       "0                        0                          0   \n",
       "1                        0                          0   \n",
       "2                        0                          0   \n",
       "3                        0                          0   \n",
       "4                        0                          0   \n",
       "\n",
       "   has_secondary_use_health_post  has_secondary_use_gov_office  \\\n",
       "0                              0                             0   \n",
       "1                              0                             0   \n",
       "2                              0                             0   \n",
       "3                              0                             0   \n",
       "4                              0                             0   \n",
       "\n",
       "   has_secondary_use_use_police  has_secondary_use_other  damage_grade  \n",
       "0                             0                        0             3  \n",
       "1                             0                        0             2  \n",
       "2                             0                        0             3  \n",
       "3                             0                        0             2  \n",
       "4                             0                        0             3  \n",
       "\n",
       "[5 rows x 40 columns]"
      ]
     },
     "execution_count": 283,
     "metadata": {},
     "output_type": "execute_result"
    }
   ],
   "source": [
    "union=train.merge(labels, how='inner', on='building_id')\n",
    "union.head()"
   ]
  },
  {
   "cell_type": "code",
   "execution_count": 284,
   "metadata": {},
   "outputs": [],
   "source": [
    "df2=union.rename(columns={'has_superstructure_adobe_mud':'adobe-barro',\n",
    "                   'has_superstructure_mud_mortar_stone':'barro-piedra',\n",
    "                   'has_superstructure_stone_flag':'piedra',\n",
    "                   'has_superstructure_cement_mortar_stone':'cemento-piedra',\n",
    "                   'has_superstructure_mud_mortar_brick':'barro-ladrillo',\n",
    "                   'has_superstructure_cement_mortar_brick':'cemento-ladrillos',\n",
    "                   'has_superstructure_timber':'Timber',\n",
    "                   'has_superstructure_bamboo':'Bambú',\n",
    "                   'has_superstructure_rc_non_engineered':'concreto_reforzado_no_diseñado',\n",
    "                   'has_superstructure_rc_engineered':'concreto_reforzado_diseñado',\n",
    "                   'has_superstructure_other':'estructura_otro',\n",
    "                   'has_secondary_use':'uso_secundario',\n",
    "                   'has_secondary_use_agriculture':'uso_agricultura',\n",
    "                   'has_secondary_use_hotel':'uso_hotel',\n",
    "                   'has_secondary_use_rental':'uso_rental',\n",
    "                    'has_secondary_use_institution':'uso_institucion',\n",
    "                    'has_secondary_use_school':'uso_escuela',\n",
    "                    'has_secondary_use_industry':'uso_industrial',\n",
    "                    'has_secondary_use_health_post':'uso_PuestoDeSalud',\n",
    "                    'has_secondary_use_gov_office':'uso_oficinaDeGobierno',\n",
    "                    'has_secondary_use_use_police':'uso_estacionDePolicia',\n",
    "                    'has_secondary_use_other':'uso_de_otros'})"
   ]
  },
  {
   "cell_type": "markdown",
   "metadata": {},
   "source": [
    "## Analisis material de construccion "
   ]
  },
  {
   "cell_type": "markdown",
   "metadata": {},
   "source": [
    "### <font color =blue> ***1. ¿Cual es el material que mas abunda?*** </font>"
   ]
  },
  {
   "cell_type": "code",
   "execution_count": 285,
   "metadata": {},
   "outputs": [],
   "source": [
    "materiales=df2.loc[:,['adobe-barro','barro-piedra','piedra','cemento-piedra','barro-ladrillo','cemento-ladrillos',\n",
    "                      'Timber','Bambú','concreto_reforzado_no_diseñado','concreto_reforzado_diseñado','estructura_otro']]"
   ]
  },
  {
   "cell_type": "code",
   "execution_count": 286,
   "metadata": {},
   "outputs": [
    {
     "data": {
      "text/html": [
       "<div>\n",
       "<style scoped>\n",
       "    .dataframe tbody tr th:only-of-type {\n",
       "        vertical-align: middle;\n",
       "    }\n",
       "\n",
       "    .dataframe tbody tr th {\n",
       "        vertical-align: top;\n",
       "    }\n",
       "\n",
       "    .dataframe thead th {\n",
       "        text-align: right;\n",
       "    }\n",
       "</style>\n",
       "<table border=\"1\" class=\"dataframe\">\n",
       "  <thead>\n",
       "    <tr style=\"text-align: right;\">\n",
       "      <th></th>\n",
       "      <th>sum</th>\n",
       "      <th>mean</th>\n",
       "    </tr>\n",
       "  </thead>\n",
       "  <tbody>\n",
       "    <tr>\n",
       "      <th>adobe-barro</th>\n",
       "      <td>23101.0</td>\n",
       "      <td>0.088645</td>\n",
       "    </tr>\n",
       "    <tr>\n",
       "      <th>barro-piedra</th>\n",
       "      <td>198561.0</td>\n",
       "      <td>0.761935</td>\n",
       "    </tr>\n",
       "    <tr>\n",
       "      <th>piedra</th>\n",
       "      <td>8947.0</td>\n",
       "      <td>0.034332</td>\n",
       "    </tr>\n",
       "    <tr>\n",
       "      <th>cemento-piedra</th>\n",
       "      <td>4752.0</td>\n",
       "      <td>0.018235</td>\n",
       "    </tr>\n",
       "    <tr>\n",
       "      <th>barro-ladrillo</th>\n",
       "      <td>17761.0</td>\n",
       "      <td>0.068154</td>\n",
       "    </tr>\n",
       "    <tr>\n",
       "      <th>cemento-ladrillos</th>\n",
       "      <td>19615.0</td>\n",
       "      <td>0.075268</td>\n",
       "    </tr>\n",
       "    <tr>\n",
       "      <th>Timber</th>\n",
       "      <td>66450.0</td>\n",
       "      <td>0.254988</td>\n",
       "    </tr>\n",
       "    <tr>\n",
       "      <th>Bambú</th>\n",
       "      <td>22154.0</td>\n",
       "      <td>0.085011</td>\n",
       "    </tr>\n",
       "    <tr>\n",
       "      <th>concreto_reforzado_no_diseñado</th>\n",
       "      <td>11099.0</td>\n",
       "      <td>0.042590</td>\n",
       "    </tr>\n",
       "    <tr>\n",
       "      <th>concreto_reforzado_diseñado</th>\n",
       "      <td>4133.0</td>\n",
       "      <td>0.015859</td>\n",
       "    </tr>\n",
       "    <tr>\n",
       "      <th>estructura_otro</th>\n",
       "      <td>3905.0</td>\n",
       "      <td>0.014985</td>\n",
       "    </tr>\n",
       "  </tbody>\n",
       "</table>\n",
       "</div>"
      ],
      "text/plain": [
       "                                     sum      mean\n",
       "adobe-barro                      23101.0  0.088645\n",
       "barro-piedra                    198561.0  0.761935\n",
       "piedra                            8947.0  0.034332\n",
       "cemento-piedra                    4752.0  0.018235\n",
       "barro-ladrillo                   17761.0  0.068154\n",
       "cemento-ladrillos                19615.0  0.075268\n",
       "Timber                           66450.0  0.254988\n",
       "Bambú                            22154.0  0.085011\n",
       "concreto_reforzado_no_diseñado   11099.0  0.042590\n",
       "concreto_reforzado_diseñado       4133.0  0.015859\n",
       "estructura_otro                   3905.0  0.014985"
      ]
     },
     "execution_count": 286,
     "metadata": {},
     "output_type": "execute_result"
    }
   ],
   "source": [
    "grupo2=materiales.agg(['sum','mean'])\n",
    "grupo2.T"
   ]
  },
  {
   "cell_type": "code",
   "execution_count": 287,
   "metadata": {},
   "outputs": [
    {
     "data": {
      "text/plain": [
       "sum     float64\n",
       "mean    float64\n",
       "dtype: object"
      ]
     },
     "execution_count": 287,
     "metadata": {},
     "output_type": "execute_result"
    }
   ],
   "source": [
    "grupo2.T.dtypes"
   ]
  },
  {
   "cell_type": "code",
   "execution_count": 288,
   "metadata": {},
   "outputs": [
    {
     "data": {
      "image/png": "[encoded data removed]",
      "text/plain": [
       "<Figure size 360x720 with 1 Axes>"
      ]
     },
     "metadata": {},
     "output_type": "display_data"
    }
   ],
   "source": [
    "cant_materiales=materiales.agg('sum')\n",
    "\n",
    "visua= cant_materiales.T.plot.bar(figsize=(5,10), color='#2EC4B6')\n",
    "visua.set_ylabel(\"Cantidad\", fontsize=12)\n",
    "visua.set_xlabel(\"Material\", fontsize=12)\n",
    "visua.set_title('Cantidad de edificios por material', fontsize = 15)\n",
    "\n",
    "for label in (visua.get_xticklabels() + visua.get_yticklabels()):\n",
    "\tlabel.set_fontsize(12)\n",
    "plt.tight_layout()"
   ]
  },
  {
   "cell_type": "markdown",
   "metadata": {},
   "source": [
    "### <font color =blue> ***2. ¿Cual es el material que mas daño sufrio y que grado tuvo?*** </font>\n",
    "\n"
   ]
  },
  {
   "cell_type": "code",
   "execution_count": 289,
   "metadata": {},
   "outputs": [
    {
     "data": {
      "text/html": [
       "<div>\n",
       "<style scoped>\n",
       "    .dataframe tbody tr th:only-of-type {\n",
       "        vertical-align: middle;\n",
       "    }\n",
       "\n",
       "    .dataframe tbody tr th {\n",
       "        vertical-align: top;\n",
       "    }\n",
       "\n",
       "    .dataframe thead th {\n",
       "        text-align: right;\n",
       "    }\n",
       "</style>\n",
       "<table border=\"1\" class=\"dataframe\">\n",
       "  <thead>\n",
       "    <tr style=\"text-align: right;\">\n",
       "      <th></th>\n",
       "      <th>adobe-barro</th>\n",
       "      <th>barro-piedra</th>\n",
       "      <th>piedra</th>\n",
       "      <th>cemento-piedra</th>\n",
       "      <th>barro-ladrillo</th>\n",
       "      <th>cemento-ladrillos</th>\n",
       "      <th>Timber</th>\n",
       "      <th>Bambú</th>\n",
       "      <th>concreto_reforzado_no_diseñado</th>\n",
       "      <th>concreto_reforzado_diseñado</th>\n",
       "      <th>estructura_otro</th>\n",
       "    </tr>\n",
       "    <tr>\n",
       "      <th>Daño</th>\n",
       "      <th></th>\n",
       "      <th></th>\n",
       "      <th></th>\n",
       "      <th></th>\n",
       "      <th></th>\n",
       "      <th></th>\n",
       "      <th></th>\n",
       "      <th></th>\n",
       "      <th></th>\n",
       "      <th></th>\n",
       "      <th></th>\n",
       "    </tr>\n",
       "  </thead>\n",
       "  <tbody>\n",
       "    <tr>\n",
       "      <th>1</th>\n",
       "      <td>594</td>\n",
       "      <td>8760</td>\n",
       "      <td>182</td>\n",
       "      <td>829</td>\n",
       "      <td>623</td>\n",
       "      <td>7105</td>\n",
       "      <td>7642</td>\n",
       "      <td>2839</td>\n",
       "      <td>3857</td>\n",
       "      <td>2656</td>\n",
       "      <td>656</td>\n",
       "    </tr>\n",
       "    <tr>\n",
       "      <th>2</th>\n",
       "      <td>13902</td>\n",
       "      <td>113947</td>\n",
       "      <td>4534</td>\n",
       "      <td>3248</td>\n",
       "      <td>11698</td>\n",
       "      <td>11421</td>\n",
       "      <td>40187</td>\n",
       "      <td>14001</td>\n",
       "      <td>5832</td>\n",
       "      <td>1402</td>\n",
       "      <td>2248</td>\n",
       "    </tr>\n",
       "    <tr>\n",
       "      <th>3</th>\n",
       "      <td>8605</td>\n",
       "      <td>75854</td>\n",
       "      <td>4231</td>\n",
       "      <td>675</td>\n",
       "      <td>5440</td>\n",
       "      <td>1089</td>\n",
       "      <td>18621</td>\n",
       "      <td>5314</td>\n",
       "      <td>1410</td>\n",
       "      <td>75</td>\n",
       "      <td>1001</td>\n",
       "    </tr>\n",
       "  </tbody>\n",
       "</table>\n",
       "</div>"
      ],
      "text/plain": [
       "      adobe-barro  barro-piedra  piedra  cemento-piedra  barro-ladrillo  \\\n",
       "Daño                                                                      \n",
       "1             594          8760     182             829             623   \n",
       "2           13902        113947    4534            3248           11698   \n",
       "3            8605         75854    4231             675            5440   \n",
       "\n",
       "      cemento-ladrillos  Timber  Bambú  concreto_reforzado_no_diseñado  \\\n",
       "Daño                                                                     \n",
       "1                  7105    7642   2839                            3857   \n",
       "2                 11421   40187  14001                            5832   \n",
       "3                  1089   18621   5314                            1410   \n",
       "\n",
       "      concreto_reforzado_diseñado  estructura_otro  \n",
       "Daño                                                \n",
       "1                            2656              656  \n",
       "2                            1402             2248  \n",
       "3                              75             1001  "
      ]
     },
     "execution_count": 289,
     "metadata": {},
     "output_type": "execute_result"
    }
   ],
   "source": [
    "daños_de_materiales=df2.loc[:,['damage_grade','adobe-barro','barro-piedra','piedra','cemento-piedra','barro-ladrillo','cemento-ladrillos',\n",
    "                      'Timber','Bambú','concreto_reforzado_no_diseñado','concreto_reforzado_diseñado','estructura_otro']]\n",
    "daños_de_materiales = daños_de_materiales.rename(columns={'damage_grade':'Daño'})\n",
    "agrupo=daños_de_materiales.groupby('Daño').sum()\n",
    "agrupo"
   ]
  },
  {
   "cell_type": "code",
   "execution_count": 290,
   "metadata": {},
   "outputs": [
    {
     "data": {
      "image/png": "[encoded data removed]",
      "text/plain": [
       "<Figure size 360x504 with 1 Axes>"
      ]
     },
     "metadata": {},
     "output_type": "display_data"
    }
   ],
   "source": [
    "visua2 = agrupo.T.plot.bar(color={'#2AA4A6', '#2CC4C6', '#2FF4F6'}, figsize=(5,7))\n",
    "visua2.set_ylabel(\"Cantidad\", fontsize=15)\n",
    "visua2.set_xlabel(\"Material\", fontsize=15)\n",
    "visua2.set_title('Cantidad de edificios por material y daño', fontsize = 17)\n",
    "\n",
    "for label in (visua2.get_xticklabels() + visua2.get_yticklabels()):\n",
    "\tlabel.set_fontsize(12)"
   ]
  },
  {
   "cell_type": "markdown",
   "metadata": {},
   "source": [
    "## Anailsis de Edificios"
   ]
  },
  {
   "cell_type": "markdown",
   "metadata": {},
   "source": [
    "### <font color =blue> ***3.¿Que tipo de edificios existe?*** </font>\n"
   ]
  },
  {
   "cell_type": "code",
   "execution_count": 291,
   "metadata": {},
   "outputs": [
    {
     "data": {
      "text/plain": [
       "Index(['building_id', 'geo_level_1_id', 'geo_level_2_id', 'geo_level_3_id',\n",
       "       'count_floors_pre_eq', 'age', 'area_percentage', 'height_percentage',\n",
       "       'land_surface_condition', 'foundation_type', 'roof_type',\n",
       "       'ground_floor_type', 'other_floor_type', 'position',\n",
       "       'plan_configuration', 'adobe-barro', 'barro-piedra', 'piedra',\n",
       "       'cemento-piedra', 'barro-ladrillo', 'cemento-ladrillos', 'Timber',\n",
       "       'Bambú', 'concreto_reforzado_no_diseñado',\n",
       "       'concreto_reforzado_diseñado', 'estructura_otro',\n",
       "       'legal_ownership_status', 'count_families', 'uso_secundario',\n",
       "       'uso_agricultura', 'uso_hotel', 'uso_rental', 'uso_institucion',\n",
       "       'uso_escuela', 'uso_industrial', 'uso_PuestoDeSalud',\n",
       "       'uso_oficinaDeGobierno', 'uso_estacionDePolicia', 'uso_de_otros',\n",
       "       'damage_grade'],\n",
       "      dtype='object')"
      ]
     },
     "execution_count": 291,
     "metadata": {},
     "output_type": "execute_result"
    }
   ],
   "source": [
    "df2.columns"
   ]
  },
  {
   "cell_type": "code",
   "execution_count": 292,
   "metadata": {},
   "outputs": [
    {
     "data": {
      "text/html": [
       "<div>\n",
       "<style scoped>\n",
       "    .dataframe tbody tr th:only-of-type {\n",
       "        vertical-align: middle;\n",
       "    }\n",
       "\n",
       "    .dataframe tbody tr th {\n",
       "        vertical-align: top;\n",
       "    }\n",
       "\n",
       "    .dataframe thead th {\n",
       "        text-align: right;\n",
       "    }\n",
       "</style>\n",
       "<table border=\"1\" class=\"dataframe\">\n",
       "  <thead>\n",
       "    <tr style=\"text-align: right;\">\n",
       "      <th></th>\n",
       "      <th>sum</th>\n",
       "      <th>mean</th>\n",
       "    </tr>\n",
       "  </thead>\n",
       "  <tbody>\n",
       "    <tr>\n",
       "      <th>uso_agricultura</th>\n",
       "      <td>16777.0</td>\n",
       "      <td>0.064378</td>\n",
       "    </tr>\n",
       "    <tr>\n",
       "      <th>uso_hotel</th>\n",
       "      <td>8763.0</td>\n",
       "      <td>0.033626</td>\n",
       "    </tr>\n",
       "    <tr>\n",
       "      <th>uso_rental</th>\n",
       "      <td>2111.0</td>\n",
       "      <td>0.008101</td>\n",
       "    </tr>\n",
       "    <tr>\n",
       "      <th>uso_institucion</th>\n",
       "      <td>245.0</td>\n",
       "      <td>0.000940</td>\n",
       "    </tr>\n",
       "    <tr>\n",
       "      <th>uso_escuela</th>\n",
       "      <td>94.0</td>\n",
       "      <td>0.000361</td>\n",
       "    </tr>\n",
       "    <tr>\n",
       "      <th>uso_industrial</th>\n",
       "      <td>279.0</td>\n",
       "      <td>0.001071</td>\n",
       "    </tr>\n",
       "    <tr>\n",
       "      <th>uso_PuestoDeSalud</th>\n",
       "      <td>49.0</td>\n",
       "      <td>0.000188</td>\n",
       "    </tr>\n",
       "    <tr>\n",
       "      <th>uso_oficinaDeGobierno</th>\n",
       "      <td>38.0</td>\n",
       "      <td>0.000146</td>\n",
       "    </tr>\n",
       "    <tr>\n",
       "      <th>uso_estacionDePolicia</th>\n",
       "      <td>23.0</td>\n",
       "      <td>0.000088</td>\n",
       "    </tr>\n",
       "    <tr>\n",
       "      <th>uso_de_otros</th>\n",
       "      <td>1334.0</td>\n",
       "      <td>0.005119</td>\n",
       "    </tr>\n",
       "  </tbody>\n",
       "</table>\n",
       "</div>"
      ],
      "text/plain": [
       "                           sum      mean\n",
       "uso_agricultura        16777.0  0.064378\n",
       "uso_hotel               8763.0  0.033626\n",
       "uso_rental              2111.0  0.008101\n",
       "uso_institucion          245.0  0.000940\n",
       "uso_escuela               94.0  0.000361\n",
       "uso_industrial           279.0  0.001071\n",
       "uso_PuestoDeSalud         49.0  0.000188\n",
       "uso_oficinaDeGobierno     38.0  0.000146\n",
       "uso_estacionDePolicia     23.0  0.000088\n",
       "uso_de_otros            1334.0  0.005119"
      ]
     },
     "execution_count": 292,
     "metadata": {},
     "output_type": "execute_result"
    }
   ],
   "source": [
    "edificios=df2.loc[:,['uso_agricultura', 'uso_hotel', 'uso_rental', 'uso_institucion','uso_escuela', \n",
    "                     'uso_industrial', 'uso_PuestoDeSalud','uso_oficinaDeGobierno', 'uso_estacionDePolicia', 'uso_de_otros']]\n",
    "edificios.rename(columns={'uso_agricultura':'agricultura', 'uso_hotel':'hotel',\\\n",
    "                         'uso_rental':'renta', 'uso_institucion':'institucion',\\\n",
    "                         'uso_escuela':'escuela', 'uso_industrial':'industria',\\\n",
    "                         'uso_PuestoDeSalud':'puesto_de_salud', 'uso_oficinaDeGobierno':'oficina_de_gobierno',\\\n",
    "                         'uso_estacionDePolicia':'estacion_de_policia', 'uso_de_otros':'otro'})\n",
    "cantidadDeEdificios=edificios.agg(['sum','mean'])\n",
    "cantidadDeEdificios.T"
   ]
  },
  {
   "cell_type": "code",
   "execution_count": 293,
   "metadata": {},
   "outputs": [
    {
     "data": {
      "image/png": "[encoded data removed]",
      "text/plain": [
       "<Figure size 432x288 with 1 Axes>"
      ]
     },
     "metadata": {},
     "output_type": "display_data"
    }
   ],
   "source": [
    "cantidadDeEdificios_g=cantidadDeEdificios.agg('sum')\n",
    "\n",
    "visua= cantidadDeEdificios_g.T.plot.bar(color='#464D77')\n",
    "visua.set_ylabel(\"Cantidad\", fontsize=12)\n",
    "visua.set_xlabel(\"Edificios\", fontsize=12)\n",
    "visua.set_title('Cantidad de edificios por uso secundario', fontsize = 15)\n",
    "\n",
    "for label in (visua.get_xticklabels() + visua.get_yticklabels()):\n",
    "\tlabel.set_fontsize(12)"
   ]
  },
  {
   "cell_type": "markdown",
   "metadata": {},
   "source": [
    "### <font color =blue> ***4.¿Esos edificios de que material son?*** </font>"
   ]
  },
  {
   "cell_type": "markdown",
   "metadata": {},
   "source": [
    "## Analisis de edificios con mayor destruccion "
   ]
  },
  {
   "cell_type": "markdown",
   "metadata": {},
   "source": [
    "### <font color =blue> ***5.¿Cual fue el edificio que mayor destruccion tuvo?*** </font>"
   ]
  },
  {
   "cell_type": "code",
   "execution_count": 294,
   "metadata": {},
   "outputs": [
    {
     "data": {
      "text/html": [
       "<div>\n",
       "<style scoped>\n",
       "    .dataframe tbody tr th:only-of-type {\n",
       "        vertical-align: middle;\n",
       "    }\n",
       "\n",
       "    .dataframe tbody tr th {\n",
       "        vertical-align: top;\n",
       "    }\n",
       "\n",
       "    .dataframe thead th {\n",
       "        text-align: right;\n",
       "    }\n",
       "</style>\n",
       "<table border=\"1\" class=\"dataframe\">\n",
       "  <thead>\n",
       "    <tr style=\"text-align: right;\">\n",
       "      <th></th>\n",
       "      <th>cantidad_pisos</th>\n",
       "      <th>orientacion</th>\n",
       "      <th>adobe-barro</th>\n",
       "      <th>barro-piedra</th>\n",
       "      <th>piedra</th>\n",
       "      <th>cemento-piedra</th>\n",
       "      <th>barro-ladrillo</th>\n",
       "      <th>cemento-ladrillos</th>\n",
       "      <th>Timber</th>\n",
       "      <th>Bambú</th>\n",
       "      <th>concreto_reforzado_no_diseñado</th>\n",
       "      <th>concreto_reforzado_diseñado</th>\n",
       "      <th>estructura_otro</th>\n",
       "      <th>nivel_danio</th>\n",
       "    </tr>\n",
       "  </thead>\n",
       "  <tbody>\n",
       "    <tr>\n",
       "      <th>0</th>\n",
       "      <td>2</td>\n",
       "      <td>t</td>\n",
       "      <td>1</td>\n",
       "      <td>1</td>\n",
       "      <td>0</td>\n",
       "      <td>0</td>\n",
       "      <td>0</td>\n",
       "      <td>0</td>\n",
       "      <td>0</td>\n",
       "      <td>0</td>\n",
       "      <td>0</td>\n",
       "      <td>0</td>\n",
       "      <td>0</td>\n",
       "      <td>3</td>\n",
       "    </tr>\n",
       "    <tr>\n",
       "      <th>2</th>\n",
       "      <td>2</td>\n",
       "      <td>t</td>\n",
       "      <td>0</td>\n",
       "      <td>1</td>\n",
       "      <td>0</td>\n",
       "      <td>0</td>\n",
       "      <td>0</td>\n",
       "      <td>0</td>\n",
       "      <td>0</td>\n",
       "      <td>0</td>\n",
       "      <td>0</td>\n",
       "      <td>0</td>\n",
       "      <td>0</td>\n",
       "      <td>3</td>\n",
       "    </tr>\n",
       "    <tr>\n",
       "      <th>4</th>\n",
       "      <td>3</td>\n",
       "      <td>s</td>\n",
       "      <td>1</td>\n",
       "      <td>0</td>\n",
       "      <td>0</td>\n",
       "      <td>0</td>\n",
       "      <td>0</td>\n",
       "      <td>0</td>\n",
       "      <td>0</td>\n",
       "      <td>0</td>\n",
       "      <td>0</td>\n",
       "      <td>0</td>\n",
       "      <td>0</td>\n",
       "      <td>3</td>\n",
       "    </tr>\n",
       "    <tr>\n",
       "      <th>6</th>\n",
       "      <td>2</td>\n",
       "      <td>s</td>\n",
       "      <td>0</td>\n",
       "      <td>1</td>\n",
       "      <td>0</td>\n",
       "      <td>0</td>\n",
       "      <td>0</td>\n",
       "      <td>0</td>\n",
       "      <td>0</td>\n",
       "      <td>0</td>\n",
       "      <td>0</td>\n",
       "      <td>0</td>\n",
       "      <td>0</td>\n",
       "      <td>3</td>\n",
       "    </tr>\n",
       "    <tr>\n",
       "      <th>10</th>\n",
       "      <td>2</td>\n",
       "      <td>t</td>\n",
       "      <td>0</td>\n",
       "      <td>1</td>\n",
       "      <td>0</td>\n",
       "      <td>0</td>\n",
       "      <td>0</td>\n",
       "      <td>0</td>\n",
       "      <td>1</td>\n",
       "      <td>0</td>\n",
       "      <td>0</td>\n",
       "      <td>0</td>\n",
       "      <td>0</td>\n",
       "      <td>3</td>\n",
       "    </tr>\n",
       "    <tr>\n",
       "      <th>...</th>\n",
       "      <td>...</td>\n",
       "      <td>...</td>\n",
       "      <td>...</td>\n",
       "      <td>...</td>\n",
       "      <td>...</td>\n",
       "      <td>...</td>\n",
       "      <td>...</td>\n",
       "      <td>...</td>\n",
       "      <td>...</td>\n",
       "      <td>...</td>\n",
       "      <td>...</td>\n",
       "      <td>...</td>\n",
       "      <td>...</td>\n",
       "      <td>...</td>\n",
       "    </tr>\n",
       "    <tr>\n",
       "      <th>260591</th>\n",
       "      <td>1</td>\n",
       "      <td>s</td>\n",
       "      <td>0</td>\n",
       "      <td>1</td>\n",
       "      <td>0</td>\n",
       "      <td>0</td>\n",
       "      <td>0</td>\n",
       "      <td>0</td>\n",
       "      <td>0</td>\n",
       "      <td>0</td>\n",
       "      <td>0</td>\n",
       "      <td>0</td>\n",
       "      <td>0</td>\n",
       "      <td>3</td>\n",
       "    </tr>\n",
       "    <tr>\n",
       "      <th>260595</th>\n",
       "      <td>2</td>\n",
       "      <td>s</td>\n",
       "      <td>0</td>\n",
       "      <td>1</td>\n",
       "      <td>0</td>\n",
       "      <td>0</td>\n",
       "      <td>0</td>\n",
       "      <td>0</td>\n",
       "      <td>0</td>\n",
       "      <td>0</td>\n",
       "      <td>0</td>\n",
       "      <td>0</td>\n",
       "      <td>0</td>\n",
       "      <td>3</td>\n",
       "    </tr>\n",
       "    <tr>\n",
       "      <th>260597</th>\n",
       "      <td>2</td>\n",
       "      <td>s</td>\n",
       "      <td>0</td>\n",
       "      <td>1</td>\n",
       "      <td>0</td>\n",
       "      <td>0</td>\n",
       "      <td>0</td>\n",
       "      <td>0</td>\n",
       "      <td>0</td>\n",
       "      <td>0</td>\n",
       "      <td>0</td>\n",
       "      <td>0</td>\n",
       "      <td>0</td>\n",
       "      <td>3</td>\n",
       "    </tr>\n",
       "    <tr>\n",
       "      <th>260598</th>\n",
       "      <td>3</td>\n",
       "      <td>s</td>\n",
       "      <td>0</td>\n",
       "      <td>1</td>\n",
       "      <td>0</td>\n",
       "      <td>0</td>\n",
       "      <td>0</td>\n",
       "      <td>0</td>\n",
       "      <td>0</td>\n",
       "      <td>0</td>\n",
       "      <td>0</td>\n",
       "      <td>0</td>\n",
       "      <td>0</td>\n",
       "      <td>3</td>\n",
       "    </tr>\n",
       "    <tr>\n",
       "      <th>260600</th>\n",
       "      <td>3</td>\n",
       "      <td>j</td>\n",
       "      <td>0</td>\n",
       "      <td>1</td>\n",
       "      <td>0</td>\n",
       "      <td>0</td>\n",
       "      <td>0</td>\n",
       "      <td>0</td>\n",
       "      <td>0</td>\n",
       "      <td>0</td>\n",
       "      <td>0</td>\n",
       "      <td>0</td>\n",
       "      <td>0</td>\n",
       "      <td>3</td>\n",
       "    </tr>\n",
       "  </tbody>\n",
       "</table>\n",
       "<p>87218 rows × 14 columns</p>\n",
       "</div>"
      ],
      "text/plain": [
       "        cantidad_pisos orientacion  adobe-barro  barro-piedra  piedra  \\\n",
       "0                    2           t            1             1       0   \n",
       "2                    2           t            0             1       0   \n",
       "4                    3           s            1             0       0   \n",
       "6                    2           s            0             1       0   \n",
       "10                   2           t            0             1       0   \n",
       "...                ...         ...          ...           ...     ...   \n",
       "260591               1           s            0             1       0   \n",
       "260595               2           s            0             1       0   \n",
       "260597               2           s            0             1       0   \n",
       "260598               3           s            0             1       0   \n",
       "260600               3           j            0             1       0   \n",
       "\n",
       "        cemento-piedra  barro-ladrillo  cemento-ladrillos  Timber  Bambú  \\\n",
       "0                    0               0                  0       0      0   \n",
       "2                    0               0                  0       0      0   \n",
       "4                    0               0                  0       0      0   \n",
       "6                    0               0                  0       0      0   \n",
       "10                   0               0                  0       1      0   \n",
       "...                ...             ...                ...     ...    ...   \n",
       "260591               0               0                  0       0      0   \n",
       "260595               0               0                  0       0      0   \n",
       "260597               0               0                  0       0      0   \n",
       "260598               0               0                  0       0      0   \n",
       "260600               0               0                  0       0      0   \n",
       "\n",
       "        concreto_reforzado_no_diseñado  concreto_reforzado_diseñado  \\\n",
       "0                                    0                            0   \n",
       "2                                    0                            0   \n",
       "4                                    0                            0   \n",
       "6                                    0                            0   \n",
       "10                                   0                            0   \n",
       "...                                ...                          ...   \n",
       "260591                               0                            0   \n",
       "260595                               0                            0   \n",
       "260597                               0                            0   \n",
       "260598                               0                            0   \n",
       "260600                               0                            0   \n",
       "\n",
       "        estructura_otro  nivel_danio  \n",
       "0                     0            3  \n",
       "2                     0            3  \n",
       "4                     0            3  \n",
       "6                     0            3  \n",
       "10                    0            3  \n",
       "...                 ...          ...  \n",
       "260591                0            3  \n",
       "260595                0            3  \n",
       "260597                0            3  \n",
       "260598                0            3  \n",
       "260600                0            3  \n",
       "\n",
       "[87218 rows x 14 columns]"
      ]
     },
     "execution_count": 294,
     "metadata": {},
     "output_type": "execute_result"
    }
   ],
   "source": [
    "mayor_danio = df2.loc[:,['count_floors_pre_eq', 'position', 'adobe-barro',\\\n",
    "                         'barro-piedra', 'piedra', 'cemento-piedra',\\\n",
    "                         'barro-ladrillo', 'cemento-ladrillos', 'Timber',\\\n",
    "                         'Bambú', 'concreto_reforzado_no_diseñado',\\\n",
    "                         'concreto_reforzado_diseñado', 'estructura_otro', 'damage_grade']]\n",
    "mayor_danio = mayor_danio.rename(columns={'count_floors_pre_eq':'cantidad_pisos',\\\n",
    "                                         'damage_grade':'nivel_danio',\\\n",
    "                                         'position':'orientacion'})\n",
    "mayor_danio = mayor_danio.loc[mayor_danio.nivel_danio == 3]\n",
    "mayor_danio"
   ]
  },
  {
   "cell_type": "markdown",
   "metadata": {},
   "source": [
    "### <font color =blue> ***5.1.¿Esos edificios de mayor destruccion de que material son y que cantidad de pisos tenian?*** </font>"
   ]
  },
  {
   "cell_type": "code",
   "execution_count": 295,
   "metadata": {},
   "outputs": [
    {
     "data": {
      "text/plain": [
       "2    50062\n",
       "3    24601\n",
       "1    10674\n",
       "4     1343\n",
       "5      511\n",
       "6       23\n",
       "7        4\n",
       "Name: cantidad_pisos, dtype: int64"
      ]
     },
     "execution_count": 295,
     "metadata": {},
     "output_type": "execute_result"
    }
   ],
   "source": [
    "cantidad_pisos = mayor_danio['cantidad_pisos'].value_counts()\n",
    "cantidad_pisos"
   ]
  },
  {
   "cell_type": "code",
   "execution_count": 296,
   "metadata": {},
   "outputs": [
    {
     "data": {
      "text/plain": [
       "Text(0, 0.5, 'Cantidad de edificios')"
      ]
     },
     "execution_count": 296,
     "metadata": {},
     "output_type": "execute_result"
    },
    {
     "data": {
      "image/png": "[encoded data removed]",
      "text/plain": [
       "<Figure size 432x288 with 1 Axes>"
      ]
     },
     "metadata": {},
     "output_type": "display_data"
    }
   ],
   "source": [
    "g = cantidad_pisos.plot.bar(color='#ff8474')\n",
    "g.set_title('Distribución de cantidad de pisos por edificios con daño nivel 3')\n",
    "g.set_xlabel('Cantidad de pisos')\n",
    "g.set_ylabel('Cantidad de edificios')"
   ]
  },
  {
   "cell_type": "code",
   "execution_count": 297,
   "metadata": {},
   "outputs": [
    {
     "data": {
      "text/plain": [
       "adobe-barro                        8605\n",
       "barro-piedra                      75854\n",
       "piedra                             4231\n",
       "cemento-piedra                      675\n",
       "barro-ladrillo                     5440\n",
       "cemento-ladrillos                  1089\n",
       "Timber                            18621\n",
       "Bambú                              5314\n",
       "concreto_reforzado_no_diseñado     1410\n",
       "concreto_reforzado_diseñado          75\n",
       "estructura_otro                    1001\n",
       "dtype: int64"
      ]
     },
     "execution_count": 297,
     "metadata": {},
     "output_type": "execute_result"
    }
   ],
   "source": [
    "materiales_danio = mayor_danio.drop('cantidad_pisos', 1)\n",
    "materiales_danio = materiales_danio.drop('nivel_danio', 1)\n",
    "materiales_danio = materiales_danio.drop('orientacion', 1)\n",
    "materiales_danio = materiales_danio.sum()\n",
    "materiales_danio"
   ]
  },
  {
   "cell_type": "code",
   "execution_count": 298,
   "metadata": {},
   "outputs": [
    {
     "data": {
      "text/plain": [
       "Text(0, 0.5, 'Cantidad de edificios')"
      ]
     },
     "execution_count": 298,
     "metadata": {},
     "output_type": "execute_result"
    },
    {
     "data": {
      "image/png": "[encoded data removed]",
      "text/plain": [
       "<Figure size 432x288 with 1 Axes>"
      ]
     },
     "metadata": {},
     "output_type": "display_data"
    }
   ],
   "source": [
    "g = materiales_danio.plot.bar(color='#2EC4B6')\n",
    "g.set_title('Distribución de materiales en edificios con daño nivel 3', fontsize=15)\n",
    "g.set_xlabel('Tipo de material', fontsize=12)\n",
    "g.set_ylabel('Cantidad de edificios', fontsize=12)"
   ]
  },
  {
   "cell_type": "code",
   "execution_count": 299,
   "metadata": {},
   "outputs": [
    {
     "data": {
      "text/plain": [
       "adobe-barro                        8605\n",
       "piedra                             4231\n",
       "cemento-piedra                      675\n",
       "barro-ladrillo                     5440\n",
       "cemento-ladrillos                  1089\n",
       "Timber                            18621\n",
       "Bambú                              5314\n",
       "concreto_reforzado_no_diseñado     1410\n",
       "concreto_reforzado_diseñado          75\n",
       "estructura_otro                    1001\n",
       "dtype: int64"
      ]
     },
     "execution_count": 299,
     "metadata": {},
     "output_type": "execute_result"
    }
   ],
   "source": [
    "materiales_danio_sin_barro_piedra = mayor_danio.drop('cantidad_pisos', 1)\n",
    "materiales_danio_sin_barro_piedra = materiales_danio_sin_barro_piedra.drop('nivel_danio', 1)\n",
    "materiales_danio_sin_barro_piedra = materiales_danio_sin_barro_piedra.drop('barro-piedra', 1)\n",
    "materiales_danio_sin_barro_piedra = materiales_danio_sin_barro_piedra.drop('orientacion', 1)\n",
    "materiales_danio_sin_barro_piedra = materiales_danio_sin_barro_piedra.sum()\n",
    "materiales_danio_sin_barro_piedra"
   ]
  },
  {
   "cell_type": "code",
   "execution_count": 300,
   "metadata": {},
   "outputs": [
    {
     "data": {
      "text/plain": [
       "Text(0, 0.5, 'Cantidad de edificios')"
      ]
     },
     "execution_count": 300,
     "metadata": {},
     "output_type": "execute_result"
    },
    {
     "data": {
      "image/png": "[encoded data removed]",
      "text/plain": [
       "<Figure size 432x288 with 1 Axes>"
      ]
     },
     "metadata": {},
     "output_type": "display_data"
    }
   ],
   "source": [
    "g = materiales_danio_sin_barro_piedra.plot.bar(color='#2EC4B6')\n",
    "g.set_title('Distribución de materiales en edificios con\\ndaño nivel 3 sin barro-piedra', fontsize=15)\n",
    "g.set_xlabel('Tipo de material', fontsize=12)\n",
    "g.set_ylabel('Cantidad de edificios', fontsize=12)"
   ]
  },
  {
   "cell_type": "code",
   "execution_count": 301,
   "metadata": {},
   "outputs": [
    {
     "data": {
      "text/plain": [
       "adobe-barro                        594\n",
       "barro-piedra                      8760\n",
       "piedra                             182\n",
       "cemento-piedra                     829\n",
       "barro-ladrillo                     623\n",
       "cemento-ladrillos                 7105\n",
       "Timber                            7642\n",
       "Bambú                             2839\n",
       "concreto_reforzado_no_diseñado    3857\n",
       "concreto_reforzado_diseñado       2656\n",
       "estructura_otro                    656\n",
       "dtype: int64"
      ]
     },
     "execution_count": 301,
     "metadata": {},
     "output_type": "execute_result"
    }
   ],
   "source": [
    "materiales_danio_m = menor_danio.drop('cantidad_pisos', 1)\n",
    "materiales_danio_m = materiales_danio_m.drop('nivel_danio', 1)\n",
    "materiales_danio_m = materiales_danio_m.drop('orientacion', 1)\n",
    "materiales_danio_m = materiales_danio_m.sum()\n",
    "materiales_danio_m"
   ]
  },
  {
   "cell_type": "code",
   "execution_count": 302,
   "metadata": {},
   "outputs": [
    {
     "data": {
      "text/plain": [
       "Text(0, 0.5, 'Cantidad de edificios')"
      ]
     },
     "execution_count": 302,
     "metadata": {},
     "output_type": "execute_result"
    },
    {
     "data": {
      "image/png": "[encoded data removed]",
      "text/plain": [
       "<Figure size 432x288 with 1 Axes>"
      ]
     },
     "metadata": {},
     "output_type": "display_data"
    }
   ],
   "source": [
    "g2 = materiales_danio_m.plot.bar(color='#2EC4B6')\n",
    "g2.set_title('Distribución de materiales en edificios con daño nivel 1', fontsize=15)\n",
    "g2.set_xlabel('Tipo de material', fontsize=12)\n",
    "g2.set_ylabel('Cantidad de edificios', fontsize=12)"
   ]
  },
  {
   "cell_type": "markdown",
   "metadata": {},
   "source": [
    "### <font color =blue> ***5.2.¿Influye en algo la orientacion?*** </font>"
   ]
  },
  {
   "cell_type": "code",
   "execution_count": 303,
   "metadata": {},
   "outputs": [
    {
     "data": {
      "text/plain": [
       "s    66172\n",
       "t    16734\n",
       "j     3708\n",
       "o      604\n",
       "Name: orientacion, dtype: int64"
      ]
     },
     "execution_count": 303,
     "metadata": {},
     "output_type": "execute_result"
    }
   ],
   "source": [
    "orientacion = mayor_danio['orientacion'].value_counts()\n",
    "orientacion"
   ]
  },
  {
   "cell_type": "code",
   "execution_count": 304,
   "metadata": {},
   "outputs": [
    {
     "data": {
      "text/plain": [
       "Text(0, 0.5, 'Cantidad de edificios')"
      ]
     },
     "execution_count": 304,
     "metadata": {},
     "output_type": "execute_result"
    },
    {
     "data": {
      "image/png": "[encoded data removed]",
      "text/plain": [
       "<Figure size 432x288 with 1 Axes>"
      ]
     },
     "metadata": {},
     "output_type": "display_data"
    }
   ],
   "source": [
    "g = orientacion.plot.bar(color='#ff8474')\n",
    "g.set_title('Distribución de orientacion por edificios con daño nivel 3', fontsize=15)\n",
    "g.set_xlabel('Orientacion', fontsize=12)\n",
    "g.set_ylabel('Cantidad de edificios', fontsize=12)"
   ]
  },
  {
   "cell_type": "markdown",
   "metadata": {},
   "source": [
    "### <font color =blue> ***5.3.¿Influye el tipo de base de piso o techo que tienen?*** </font>"
   ]
  },
  {
   "cell_type": "code",
   "execution_count": 305,
   "metadata": {},
   "outputs": [],
   "source": [
    "# Parte del análisis hecho en Generalidades esctructurales"
   ]
  },
  {
   "cell_type": "markdown",
   "metadata": {},
   "source": [
    "## Analisis de edificios con menor destruccion "
   ]
  },
  {
   "cell_type": "markdown",
   "metadata": {},
   "source": [
    "### <font color =blue> ***6.¿Cual fue el edificio que menor destruccion sufrio ?*** </font>"
   ]
  },
  {
   "cell_type": "code",
   "execution_count": 306,
   "metadata": {},
   "outputs": [
    {
     "data": {
      "text/html": [
       "<div>\n",
       "<style scoped>\n",
       "    .dataframe tbody tr th:only-of-type {\n",
       "        vertical-align: middle;\n",
       "    }\n",
       "\n",
       "    .dataframe tbody tr th {\n",
       "        vertical-align: top;\n",
       "    }\n",
       "\n",
       "    .dataframe thead th {\n",
       "        text-align: right;\n",
       "    }\n",
       "</style>\n",
       "<table border=\"1\" class=\"dataframe\">\n",
       "  <thead>\n",
       "    <tr style=\"text-align: right;\">\n",
       "      <th></th>\n",
       "      <th>cantidad_pisos</th>\n",
       "      <th>orientacion</th>\n",
       "      <th>adobe-barro</th>\n",
       "      <th>barro-piedra</th>\n",
       "      <th>piedra</th>\n",
       "      <th>cemento-piedra</th>\n",
       "      <th>barro-ladrillo</th>\n",
       "      <th>cemento-ladrillos</th>\n",
       "      <th>Timber</th>\n",
       "      <th>Bambú</th>\n",
       "      <th>concreto_reforzado_no_diseñado</th>\n",
       "      <th>concreto_reforzado_diseñado</th>\n",
       "      <th>estructura_otro</th>\n",
       "      <th>nivel_danio</th>\n",
       "    </tr>\n",
       "  </thead>\n",
       "  <tbody>\n",
       "    <tr>\n",
       "      <th>7</th>\n",
       "      <td>2</td>\n",
       "      <td>s</td>\n",
       "      <td>0</td>\n",
       "      <td>0</td>\n",
       "      <td>0</td>\n",
       "      <td>0</td>\n",
       "      <td>0</td>\n",
       "      <td>1</td>\n",
       "      <td>1</td>\n",
       "      <td>0</td>\n",
       "      <td>0</td>\n",
       "      <td>0</td>\n",
       "      <td>0</td>\n",
       "      <td>1</td>\n",
       "    </tr>\n",
       "    <tr>\n",
       "      <th>9</th>\n",
       "      <td>1</td>\n",
       "      <td>s</td>\n",
       "      <td>0</td>\n",
       "      <td>0</td>\n",
       "      <td>0</td>\n",
       "      <td>0</td>\n",
       "      <td>0</td>\n",
       "      <td>1</td>\n",
       "      <td>0</td>\n",
       "      <td>0</td>\n",
       "      <td>0</td>\n",
       "      <td>0</td>\n",
       "      <td>0</td>\n",
       "      <td>1</td>\n",
       "    </tr>\n",
       "    <tr>\n",
       "      <th>36</th>\n",
       "      <td>2</td>\n",
       "      <td>s</td>\n",
       "      <td>0</td>\n",
       "      <td>1</td>\n",
       "      <td>0</td>\n",
       "      <td>0</td>\n",
       "      <td>0</td>\n",
       "      <td>0</td>\n",
       "      <td>0</td>\n",
       "      <td>0</td>\n",
       "      <td>0</td>\n",
       "      <td>0</td>\n",
       "      <td>0</td>\n",
       "      <td>1</td>\n",
       "    </tr>\n",
       "    <tr>\n",
       "      <th>45</th>\n",
       "      <td>1</td>\n",
       "      <td>t</td>\n",
       "      <td>0</td>\n",
       "      <td>0</td>\n",
       "      <td>0</td>\n",
       "      <td>0</td>\n",
       "      <td>0</td>\n",
       "      <td>0</td>\n",
       "      <td>0</td>\n",
       "      <td>0</td>\n",
       "      <td>1</td>\n",
       "      <td>0</td>\n",
       "      <td>0</td>\n",
       "      <td>1</td>\n",
       "    </tr>\n",
       "    <tr>\n",
       "      <th>49</th>\n",
       "      <td>1</td>\n",
       "      <td>s</td>\n",
       "      <td>0</td>\n",
       "      <td>1</td>\n",
       "      <td>0</td>\n",
       "      <td>0</td>\n",
       "      <td>0</td>\n",
       "      <td>1</td>\n",
       "      <td>0</td>\n",
       "      <td>0</td>\n",
       "      <td>0</td>\n",
       "      <td>0</td>\n",
       "      <td>1</td>\n",
       "      <td>1</td>\n",
       "    </tr>\n",
       "    <tr>\n",
       "      <th>...</th>\n",
       "      <td>...</td>\n",
       "      <td>...</td>\n",
       "      <td>...</td>\n",
       "      <td>...</td>\n",
       "      <td>...</td>\n",
       "      <td>...</td>\n",
       "      <td>...</td>\n",
       "      <td>...</td>\n",
       "      <td>...</td>\n",
       "      <td>...</td>\n",
       "      <td>...</td>\n",
       "      <td>...</td>\n",
       "      <td>...</td>\n",
       "      <td>...</td>\n",
       "    </tr>\n",
       "    <tr>\n",
       "      <th>260541</th>\n",
       "      <td>1</td>\n",
       "      <td>s</td>\n",
       "      <td>0</td>\n",
       "      <td>1</td>\n",
       "      <td>0</td>\n",
       "      <td>0</td>\n",
       "      <td>0</td>\n",
       "      <td>0</td>\n",
       "      <td>0</td>\n",
       "      <td>0</td>\n",
       "      <td>0</td>\n",
       "      <td>0</td>\n",
       "      <td>0</td>\n",
       "      <td>1</td>\n",
       "    </tr>\n",
       "    <tr>\n",
       "      <th>260545</th>\n",
       "      <td>3</td>\n",
       "      <td>s</td>\n",
       "      <td>0</td>\n",
       "      <td>0</td>\n",
       "      <td>0</td>\n",
       "      <td>0</td>\n",
       "      <td>0</td>\n",
       "      <td>1</td>\n",
       "      <td>0</td>\n",
       "      <td>0</td>\n",
       "      <td>0</td>\n",
       "      <td>0</td>\n",
       "      <td>0</td>\n",
       "      <td>1</td>\n",
       "    </tr>\n",
       "    <tr>\n",
       "      <th>260557</th>\n",
       "      <td>1</td>\n",
       "      <td>s</td>\n",
       "      <td>0</td>\n",
       "      <td>0</td>\n",
       "      <td>0</td>\n",
       "      <td>0</td>\n",
       "      <td>0</td>\n",
       "      <td>1</td>\n",
       "      <td>0</td>\n",
       "      <td>0</td>\n",
       "      <td>0</td>\n",
       "      <td>0</td>\n",
       "      <td>0</td>\n",
       "      <td>1</td>\n",
       "    </tr>\n",
       "    <tr>\n",
       "      <th>260567</th>\n",
       "      <td>2</td>\n",
       "      <td>s</td>\n",
       "      <td>0</td>\n",
       "      <td>1</td>\n",
       "      <td>0</td>\n",
       "      <td>0</td>\n",
       "      <td>0</td>\n",
       "      <td>0</td>\n",
       "      <td>0</td>\n",
       "      <td>0</td>\n",
       "      <td>0</td>\n",
       "      <td>0</td>\n",
       "      <td>0</td>\n",
       "      <td>1</td>\n",
       "    </tr>\n",
       "    <tr>\n",
       "      <th>260589</th>\n",
       "      <td>3</td>\n",
       "      <td>s</td>\n",
       "      <td>0</td>\n",
       "      <td>0</td>\n",
       "      <td>0</td>\n",
       "      <td>0</td>\n",
       "      <td>0</td>\n",
       "      <td>0</td>\n",
       "      <td>0</td>\n",
       "      <td>0</td>\n",
       "      <td>1</td>\n",
       "      <td>0</td>\n",
       "      <td>0</td>\n",
       "      <td>1</td>\n",
       "    </tr>\n",
       "  </tbody>\n",
       "</table>\n",
       "<p>25124 rows × 14 columns</p>\n",
       "</div>"
      ],
      "text/plain": [
       "        cantidad_pisos orientacion  adobe-barro  barro-piedra  piedra  \\\n",
       "7                    2           s            0             0       0   \n",
       "9                    1           s            0             0       0   \n",
       "36                   2           s            0             1       0   \n",
       "45                   1           t            0             0       0   \n",
       "49                   1           s            0             1       0   \n",
       "...                ...         ...          ...           ...     ...   \n",
       "260541               1           s            0             1       0   \n",
       "260545               3           s            0             0       0   \n",
       "260557               1           s            0             0       0   \n",
       "260567               2           s            0             1       0   \n",
       "260589               3           s            0             0       0   \n",
       "\n",
       "        cemento-piedra  barro-ladrillo  cemento-ladrillos  Timber  Bambú  \\\n",
       "7                    0               0                  1       1      0   \n",
       "9                    0               0                  1       0      0   \n",
       "36                   0               0                  0       0      0   \n",
       "45                   0               0                  0       0      0   \n",
       "49                   0               0                  1       0      0   \n",
       "...                ...             ...                ...     ...    ...   \n",
       "260541               0               0                  0       0      0   \n",
       "260545               0               0                  1       0      0   \n",
       "260557               0               0                  1       0      0   \n",
       "260567               0               0                  0       0      0   \n",
       "260589               0               0                  0       0      0   \n",
       "\n",
       "        concreto_reforzado_no_diseñado  concreto_reforzado_diseñado  \\\n",
       "7                                    0                            0   \n",
       "9                                    0                            0   \n",
       "36                                   0                            0   \n",
       "45                                   1                            0   \n",
       "49                                   0                            0   \n",
       "...                                ...                          ...   \n",
       "260541                               0                            0   \n",
       "260545                               0                            0   \n",
       "260557                               0                            0   \n",
       "260567                               0                            0   \n",
       "260589                               1                            0   \n",
       "\n",
       "        estructura_otro  nivel_danio  \n",
       "7                     0            1  \n",
       "9                     0            1  \n",
       "36                    0            1  \n",
       "45                    0            1  \n",
       "49                    1            1  \n",
       "...                 ...          ...  \n",
       "260541                0            1  \n",
       "260545                0            1  \n",
       "260557                0            1  \n",
       "260567                0            1  \n",
       "260589                0            1  \n",
       "\n",
       "[25124 rows x 14 columns]"
      ]
     },
     "execution_count": 306,
     "metadata": {},
     "output_type": "execute_result"
    }
   ],
   "source": [
    "menor_danio = df2.loc[:,['count_floors_pre_eq', 'position', 'adobe-barro',\\\n",
    "                         'barro-piedra', 'piedra', 'cemento-piedra',\\\n",
    "                         'barro-ladrillo', 'cemento-ladrillos', 'Timber',\\\n",
    "                         'Bambú', 'concreto_reforzado_no_diseñado',\\\n",
    "                         'concreto_reforzado_diseñado', 'estructura_otro', 'damage_grade']]\n",
    "menor_danio = menor_danio.rename(columns={'count_floors_pre_eq':'cantidad_pisos',\\\n",
    "                                         'damage_grade':'nivel_danio',\\\n",
    "                                         'position':'orientacion'})\n",
    "menor_danio = menor_danio.loc[menor_danio.nivel_danio == 1]\n",
    "menor_danio"
   ]
  },
  {
   "cell_type": "markdown",
   "metadata": {},
   "source": [
    "### <font color =blue> ***6.1.¿Esos edificios de menor destruccion de que material son y que cantidad de pisos tenian?*** </font>"
   ]
  },
  {
   "cell_type": "code",
   "execution_count": 307,
   "metadata": {},
   "outputs": [
    {
     "data": {
      "text/plain": [
       "2    12593\n",
       "1     8969\n",
       "3     2537\n",
       "4      707\n",
       "5      254\n",
       "6       53\n",
       "7       10\n",
       "9        1\n",
       "Name: cantidad_pisos, dtype: int64"
      ]
     },
     "execution_count": 307,
     "metadata": {},
     "output_type": "execute_result"
    }
   ],
   "source": [
    "cantidad_pisos_m = menor_danio['cantidad_pisos'].value_counts()\n",
    "cantidad_pisos_m"
   ]
  },
  {
   "cell_type": "code",
   "execution_count": 308,
   "metadata": {},
   "outputs": [
    {
     "data": {
      "text/plain": [
       "Text(0, 0.5, 'Cantidad de edificios')"
      ]
     },
     "execution_count": 308,
     "metadata": {},
     "output_type": "execute_result"
    },
    {
     "data": {
      "image/png": "[encoded data removed]",
      "text/plain": [
       "<Figure size 432x288 with 1 Axes>"
      ]
     },
     "metadata": {},
     "output_type": "display_data"
    }
   ],
   "source": [
    "g = cantidad_pisos_m.plot.bar(color='#ff8474')\n",
    "g.set_title('Distribución de cantidad de pisos por edificios con daño nivel 1')\n",
    "g.set_xlabel('Cantidad de pisos')\n",
    "g.set_ylabel('Cantidad de edificios')"
   ]
  },
  {
   "cell_type": "markdown",
   "metadata": {},
   "source": [
    "### Sección de materiales respondida en 5.1"
   ]
  },
  {
   "cell_type": "markdown",
   "metadata": {},
   "source": [
    "### <font color =blue> ***6.2.¿Influye en algo la orientacion?*** </font>"
   ]
  },
  {
   "cell_type": "code",
   "execution_count": 309,
   "metadata": {},
   "outputs": [
    {
     "data": {
      "text/plain": [
       "s    19867\n",
       "t     3462\n",
       "j     1675\n",
       "o      120\n",
       "Name: orientacion, dtype: int64"
      ]
     },
     "execution_count": 309,
     "metadata": {},
     "output_type": "execute_result"
    }
   ],
   "source": [
    "orientacion_m = menor_danio['orientacion'].value_counts()\n",
    "orientacion_m"
   ]
  },
  {
   "cell_type": "code",
   "execution_count": 310,
   "metadata": {},
   "outputs": [
    {
     "data": {
      "text/plain": [
       "Text(0, 0.5, 'Cantidad de edificios')"
      ]
     },
     "execution_count": 310,
     "metadata": {},
     "output_type": "execute_result"
    },
    {
     "data": {
      "image/png": "[encoded data removed]",
      "text/plain": [
       "<Figure size 432x288 with 1 Axes>"
      ]
     },
     "metadata": {},
     "output_type": "display_data"
    }
   ],
   "source": [
    "g = orientacion_m.plot.bar(color='#ff8474')\n",
    "g.set_title('Distribución de orientacion por edificios con daño nivel 1', fontsize=15)\n",
    "g.set_xlabel('Orientacion', fontsize=12)\n",
    "g.set_ylabel('Cantidad de edificios', fontsize=12)"
   ]
  },
  {
   "cell_type": "markdown",
   "metadata": {},
   "source": [
    "### <font color =blue> ***6.3.¿Influye el tipo de base de piso o techo que tienen?*** </font>"
   ]
  },
  {
   "cell_type": "code",
   "execution_count": 311,
   "metadata": {},
   "outputs": [],
   "source": [
    "# Parte del análisis hecho en Generalidades esctructurales "
   ]
  }
 ],
 "metadata": {
  "kernelspec": {
   "display_name": "Python 3",
   "language": "python",
   "name": "python3"
  },
  "language_info": {
   "codemirror_mode": {
    "name": "ipython",
    "version": 3
   },
   "file_extension": ".py",
   "mimetype": "text/x-python",
   "name": "python",
   "nbconvert_exporter": "python",
   "pygments_lexer": "ipython3",
   "version": "3.8.5"
  }
 },
 "nbformat": 4,
 "nbformat_minor": 2
}
